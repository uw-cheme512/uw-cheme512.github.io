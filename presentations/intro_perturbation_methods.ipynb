{
 "cells": [
  {
   "cell_type": "markdown",
   "metadata": {},
   "source": [
    "So far, all the PDE examples we have looked at have been linear. What do we do if we run into a non-linear system? The are gnarly problems, and some of them don't even have solutions. We are going to examine one approach called *perturbation* that provide approximate solutions by using a small parameter.\n",
    "\n",
    "Perturbation methods can be used when:\n",
    "\n",
    "1. One of the parameters has only very small or very large values.\n",
    "\n",
    "2. The equation can be solved analytically when $\\epsilon = 0$.\n",
    "\n",
    "These conditions are often met just due to the physical phenomena involved."
   ]
  },
  {
   "cell_type": "markdown",
   "metadata": {},
   "source": [
    "We introduce a new form of series solution known as an *asymtoptic expansion* of the form:\n",
    "\n",
    "$$y(x, \\epsilon) = \\sum_{n=0}^{\\infty}{y_n(x) u_n(\\epsilon)} \\text{  as  } \\epsilon \\rightarrow 0 $$\n",
    "\n",
    "where $u_n$ is an asymtoptic function:\n",
    "\n",
    "$$u_n(\\epsilon) = o [u_{n-1}(\\epsilon] $$\n",
    "\n",
    "This implies that:\n",
    "\n",
    "$$\\lim_{\\epsilon \\rightarrow 0} \\frac{u_n(\\epsilon)}{u_{n-1}(\\epsilon)} = 0$$\n",
    "\n",
    "Example functions that fit this criteria are:\n",
    "\n",
    "$$\\epsilon^n, n \\epsilon^n, \\ln [1+\\epsilon]^n $$\n",
    "\n",
    "Note that while the solution has only local validity with respect to $\\epsilon$, it has global validity with respect to x."
   ]
  },
  {
   "cell_type": "markdown",
   "metadata": {},
   "source": [
    "The general procedure for evaluating the coefficients is:\n",
    "\n",
    "$$y_0(x) = \\lim_{\\epsilon \\rightarrow 0}{\\frac{y(x,\\epsilon)}{u_0(\\epsilon)}}$$\n",
    "\n",
    "$$y_1(x) = \\lim_{\\epsilon \\rightarrow 0}{\\frac{y(x,\\epsilon) - y_0(x) u_0(\\epsilon)}{u_1(\\epsilon)}}$$\n",
    "\n",
    "$$y_N(x) = \\lim_{\\epsilon \\rightarrow 0}{\\frac{y(x,\\epsilon) - \\sum_{n=0}^{N-1}y_n(x) u_n(\\epsilon)}{u_N(\\epsilon)}}$$\n",
    "\n",
    "In the common case that $u_n(\\epsilon) = \\epsilon^n$, this becomes a Taylor series expansion:\n",
    "\n",
    "$$y(x, \\epsilon) = \\sum_{n=0}^{\\infty}{\\frac{\\epsilon^n}{n!} \\bigg( \\frac{\\partial^n y}{\\partial \\epsilon^n} \\bigg)} $$"
   ]
  },
  {
   "cell_type": "markdown",
   "metadata": {},
   "source": [
    "## Regular perturbation method example\n",
    "\n",
    "We will demonstrate the regular perturbation method with the algebraic equation:\n",
    "\n",
    "$$y^2 + y + \\epsilon  = 0 $$\n",
    "\n",
    "We will select $u_n(\\epsilon) = \\epsilon^n$. The solution becomes:\n",
    "\n",
    "$$y(\\epsilon) = \\sum_{n=0}^{\\infty}{\\epsilon^n y_n} $$\n",
    "\n",
    "But the coefficients still must be selected. We will do so by substituting the proposed solution into the original equation:\n",
    "\n",
    "$$(y_0 + \\epsilon y_1 + \\epsilon^2 y_2 + ...)^2 + (y_0 + \\epsilon y_1 + \\epsilon^2 y_2 + ...) + \\epsilon = 0 $$\n",
    "\n",
    "Expanding for small \\epsilon becomes:\n",
    "\n",
    "$$y_0^2 + 2y_0 y_1 \\epsilon + (y_1^2 + 2 y_0 y_2)\\epsilon^2+ ... +  y_0 + \\epsilon y_1 + \\epsilon^2 y_2 + ... = 0$$\n",
    "\n",
    "Grouping gives:\n",
    "\n",
    "$$(y_0^2 + y_0) + (2 y_0 y_1 + y_1 + 1)\\epsilon + (y_1^2 + 2 y_0 y_2 + y_2)\\epsilon^2 + ... = 0 $$\n",
    "\n",
    "Since this equation must be satisfied for all values of $\\epsilon$, and the coefficients of $y_N$ do not depend on $\\epsilon$, each of the terms multiplying powers of $\\epsilon$ must be equal to zero. Thus:\n",
    "\n",
    "$$y_0(y_0 + 1) = 0 $$\n",
    "$$2y_0 y_1 + y_1 +1 = 0 $$\n",
    "$$y_1^2+ 2 y_0 y_2 + y_2 = 0 $$"
   ]
  },
  {
   "cell_type": "markdown",
   "metadata": {},
   "source": [
    "Since the first equation leads to two possible solutions, there are two distinct sets of coefficients:\n",
    "\n",
    "$$y(\\epsilon) = -\\epsilon - \\epsilon^2 + ... $$\n",
    "$$y(\\epsilon) = -1 + \\epsilon + \\epsilon^2 + ... $$\n",
    "\n",
    "We know the exact solution is given by:\n",
    "\n",
    "$$y_{\\pm} = \\frac{-1 \\pm \\sqrt{1 - 4\\epsilon}}{2} $$\n",
    "\n",
    "Performing a Taylor series expansion around this yields the perturbation solution found above."
   ]
  },
  {
   "cell_type": "markdown",
   "metadata": {},
   "source": [
    "Now let's try finding a perturbation solution to an ODE:\n",
    "\n",
    "$$\\frac{d^2 y}{dx^2} = \\epsilon y, x \\in (0,1) $$\n",
    "\n",
    "with BCs\n",
    "\n",
    "$$\\frac{dy}{dx}_{0} = 0, y(1) = 1 $$\n",
    "\n",
    "which represents the concentration profile in a flat slab of catalyst where an isothermal first-order reaction occurs. The Thiele modulus $\\sqrt{\\epsilon} $ is a small parameter when the internal rate of diffusive mass transport is much faster than the rate of chemical reaction.\n",
    "\n",
    "We can find the exact solution using methods from earlier in the course as:\n",
    "\n",
    "$$y(x) = \\frac{\\cosh {\\sqrt{\\epsilon} x}}{\\cosh {\\sqrt{\\epsilon}}} $$\n",
    "\n",
    "Now let us solve with perturbation methods, assuming a solution of the form:\n",
    "\n",
    "$$y(x, \\epsilon) = \\sum_{n=0}^{\\infty}{\\epsilon^n y_n(x)} $$\n",
    "\n",
    "After substitution, we make the same assumption that terms of equal orders of magnitude must be equation to zero:\n",
    "\n",
    "$$O(\\epsilon^0): \\frac{d^2 y_0}{d x^2} = 0, x \\in (0,1) $$\n",
    "\n",
    "and BCs $\\frac{d y_0}{dx}_{x=0} = 0, y_0(1) = 1 $\n",
    "\n",
    "$$O(\\epsilon^1): \\frac{d^2 y_1}{d x^2} = y_0, x \\in (0,1) $$\n",
    "\n",
    "and BCs $\\frac{d y_1}{dx}_{x=0} = 0, y_1(1) = 0 $\n",
    "\n",
    "$$O(\\epsilon^2): \\frac{d^2 y_2}{d x^2} = y_1, x \\in (0,1) $$\n",
    "\n",
    "and BCs $\\frac{d y_2}{dx}_{x=0} = 0, y_2(1) = 0 $\n",
    "\n",
    "Solving each of the above problems yields:\n",
    "\n",
    "$$y_0(x) = 1 $$\n",
    "$$y_1(x) = -\\frac{1}{2}(1 - x^2) $$\n",
    "$$y_2(x) = \\frac{1}{4} \\bigg( \\frac{5}{6} - x^2 + \\frac{x^4}{6} \\bigg) $$\n",
    "\n",
    "Substituting, this becomes:\n",
    "\n",
    "$$y(x, \\epsilon) = 1 - \\frac{\\epsilon}{2}(1 - x^2) + \\frac{\\epsilon^2}{4} \\bigg( \\frac{5}{6} - x^2 + \\frac{x^4}{6} \\bigg) + O(\\epsilon^3)$$\n",
    "\n",
    "It is left as an exercise to verify that the Taylor series expansion of the exact solution reproduces this result."
   ]
  },
  {
   "cell_type": "code",
   "execution_count": 22,
   "metadata": {},
   "outputs": [],
   "source": [
    "import numpy as np\n",
    "import matplotlib.pyplot as plt\n",
    "from matplotlib import cm"
   ]
  },
  {
   "cell_type": "code",
   "execution_count": 21,
   "metadata": {},
   "outputs": [
    {
     "data": {
      "text/plain": [
       "(0.0, 1.01)"
      ]
     },
     "execution_count": 21,
     "metadata": {},
     "output_type": "execute_result"
    },
    {
     "data": {
      "image/png": "[encoded data removed]",
      "text/plain": [
       "<Figure size 432x288 with 1 Axes>"
      ]
     },
     "metadata": {
      "needs_background": "light"
     },
     "output_type": "display_data"
    }
   ],
   "source": [
    "x = np.linspace(0, 1, 101)\n",
    "eps = 1.5\n",
    "\n",
    "y = np.cosh(np.sqrt(eps)*x)/np.cosh(np.sqrt(eps))\n",
    "y0 = x*0 + 1\n",
    "y1 = 1 - eps*(1-x**2)/2\n",
    "y2 = y1 + eps**2*(5/6 - x**2 + x**4/6)/4\n",
    "\n",
    "colors = cm.Blues(np.linspace(0.1, 1, 3))\n",
    "\n",
    "fig, ax = plt.subplots()\n",
    "\n",
    "ax.plot(x, y, c='k', label='exact')\n",
    "ax.plot(x, y0, c=colors[0], label='y0')\n",
    "ax.plot(x, y1, c=colors[1], label='y1')\n",
    "ax.plot(x, y2, c=colors[2], label='y2')\n",
    "\n",
    "ax.legend(fontsize=14)\n",
    "ax.set_ylim([0.0, 1.01])"
   ]
  },
  {
   "cell_type": "code",
   "execution_count": null,
   "metadata": {},
   "outputs": [],
   "source": []
  },
  {
   "cell_type": "markdown",
   "metadata": {},
   "source": [
    "# When regular perturbation methods fail\n",
    "\n",
    "## Secular-Type Problems\n",
    "\n",
    "Regular perturbation fails when the independent variable (x or t) belongs to an infinite domain. \n",
    "\n",
    "In this case, you can find a solution. But for any given $\\epsilon$ and any number of terms, there exists a sufficiently large t beyond with the solution breaks down. This is due to the presence of terms in the solution (e.g. $t^n$) which grow unbounded with t. No matter how small $\\epsilon is$, these terms will go to infinity. \n",
    "\n",
    "These are called *secular* terms, and these are referred to as *secular-type problems*. They require special techniques to rescale the independent variable.\n",
    "\n",
    "Example: second-order reaction in a batch reactor."
   ]
  },
  {
   "cell_type": "code",
   "execution_count": 27,
   "metadata": {},
   "outputs": [
    {
     "data": {
      "text/plain": [
       "(0.0, 5.01)"
      ]
     },
     "execution_count": 27,
     "metadata": {},
     "output_type": "execute_result"
    },
    {
     "data": {
      "image/png": "[encoded data removed]",
      "text/plain": [
       "<Figure size 432x288 with 1 Axes>"
      ]
     },
     "metadata": {
      "needs_background": "light"
     },
     "output_type": "display_data"
    }
   ],
   "source": [
    "t = np.linspace(0, 10, 1001)\n",
    "eps = 0.5\n",
    "\n",
    "y = 1/(1+eps*t)\n",
    "y0 = 0*t + 1\n",
    "y1 = 1-eps*t\n",
    "y2 = y1 + eps**2*t**2\n",
    "\n",
    "colors = cm.Blues(np.linspace(0.1, 1, 3))\n",
    "\n",
    "fig, ax = plt.subplots()\n",
    "\n",
    "ax.plot(t, y, c='k', label='exact')\n",
    "ax.plot(t, y0, c=colors[0], label='y0')\n",
    "ax.plot(t, y1, c=colors[1], label='y1')\n",
    "ax.plot(t, y2, c=colors[2], label='y2')\n",
    "\n",
    "ax.legend(fontsize=14)\n",
    "ax.set_ylim([0.0, 1.01])\n",
    "ax.set_xlim([0.0, 5.01])"
   ]
  },
  {
   "cell_type": "markdown",
   "metadata": {},
   "source": [
    "## Boundary Layer-Type Problems\n",
    "\n",
    "The second class of failure is when the order or dimensionality or type of the original equation changes when the small parameter vanishes e.g. the small parameter multiplies a higher-order derivative:\n",
    "\n",
    "$$\\epsilon \\frac{d^2 y}{x^2} = y $$\n",
    "\n",
    "or\n",
    "\n",
    "$$\\epsilon \\frac{\\partial y}{\\partial t} + \\alpha \\frac{\\partial y}{\\partial x} + \\frac{\\partial ^2 y}{\\partial x^2} = 1 $$\n",
    "\n",
    "In both cases, the zeroth order solution y_0 is incompatible with one of the associated conditions. If we solve the first solution using exact methods, we get:\n",
    "\n",
    "$$y = \\frac{\\cosh(x/\\sqrt{\\epsilon})}{\\cosh{1/\\sqrt{\\epsilon}}} $$\n",
    "\n",
    "Plotting:"
   ]
  },
  {
   "cell_type": "code",
   "execution_count": 1,
   "metadata": {},
   "outputs": [],
   "source": [
    "import numpy as np\n",
    "import matplotlib.pyplot as plt"
   ]
  },
  {
   "cell_type": "code",
   "execution_count": 10,
   "metadata": {},
   "outputs": [
    {
     "data": {
      "text/plain": [
       "<matplotlib.legend.Legend at 0x2006f425748>"
      ]
     },
     "execution_count": 10,
     "metadata": {},
     "output_type": "execute_result"
    },
    {
     "data": {
      "image/png": "[encoded data removed]",
      "text/plain": [
       "<Figure size 432x288 with 1 Axes>"
      ]
     },
     "metadata": {
      "needs_background": "light"
     },
     "output_type": "display_data"
    }
   ],
   "source": [
    "x = np.linspace(0, 1, 100)\n",
    "\n",
    "fig, ax = plt.subplots()\n",
    "\n",
    "for eps in [0.1, 0.01, 0.001]:\n",
    "    y = np.cosh(x/np.sqrt(eps))/np.cosh(1/np.sqrt(eps))\n",
    "    ax.plot(x, y, label=r'$\\epsilon$ = {}'.format(eps))\n",
    "    \n",
    "ax.set_ylim([0,1])\n",
    "ax.legend()"
   ]
  },
  {
   "cell_type": "markdown",
   "metadata": {},
   "source": [
    "The region where the solution changes sharply is referred to as the *boundary layer*\n",
    "\n",
    "The approximation given by regular perturbation theory (y=0) gives an accurate solution only for the region far away from x=1, but it ignores values in the region close to 1. \n",
    "\n",
    "This suggests the need to develop two distinct solutions, each valid within a specific interval of x, and then connect them at the boundary. This is called the *method of matched asymptotic expansions* for *boundary layer-type problems*."
   ]
  },
  {
   "cell_type": "markdown",
   "metadata": {},
   "source": [
    "## Method of strained coordinates\n",
    "\n",
    "This method is used for secular type problems using a rescaling approach. Let's look at an example of a free oscillation of a mass with no weight on a non-linear spring, whose friction with the surrounding media is negligible:\n",
    "\n",
    "$$\\frac{d^2}{dt^2} + y - \\epsilon y^3 = 0, t>0 $$\n",
    "\n",
    "with ICs\n",
    "\n",
    "$$y(0) = a, \\frac{dy}{dt}_{t=0} = 0 $$\n",
    "\n",
    "Using the typical expansion:\n",
    "\n",
    "$$y(t) = \\sum_{n=0}^{\\infty}{\\epsilon^n y_n(t)} $$\n",
    "\n",
    "and substituting it gives the zeroth order solution:\n",
    "\n",
    "$$\\frac{d^2 y_0}{dx^2} + y_0 = 0, y_0=a, \\frac{dy_0}{dt}=0, t=0 $$\n",
    "\n",
    "This gives:\n",
    "\n",
    "$$y_0 = a \\cos{t} $$\n",
    "\n",
    "Finding the solution for the 1st order term and summing gives:\n",
    "\n",
    "$$y = a \\cos{t} + \\epsilon \\frac{a^3}{12}[\\cos{t} - \\cos{3t}  + 12t \\sin{t}] + O(\\epsilon^2) $$\n",
    "\n",
    "This expression is not uniformly valid, due to the secular term $t \\sin{t}$.\n",
    "\n",
    "This motivates the method of strained coordinates:"
   ]
  },
  {
   "cell_type": "markdown",
   "metadata": {},
   "source": [
    "In this method, we expand both the dependent and independent variables:\n",
    "\n",
    "$$t = \\tau + \\epsilon f_1(\\tau) + \\epsilon^3 f_2(\\tau) $$\n",
    "$$y(t) = y_0(\\tau) + \\epsilon y_1(\\tau) + \\epsilon^2 y_2(\\tau) $$\n",
    "\n",
    "The functions $f_n(\\tau)$ are determined to remove the secular terms. Before substituting, we need to determine the derivatives in the new space:\n",
    "\n",
    "$$\\frac{dy}{dt} = \\frac{dy}{d \\tau} \\frac{d \\tau}{dt}$$\n",
    "\n",
    "Through some nasty work, we get:\n",
    "\n",
    "$$\\frac{dy}{dt} = \\bigg( \\frac{d y_0}{d \\tau} + \\epsilon \\frac{d y_1}{d \\tau} + ... \\bigg) \\bigg( 1 - \\epsilon \\frac{d f_1}{d \\tau} + ... \\bigg) $$\n",
    "\n",
    "The second derivative is even nastier...\n",
    "\n",
    "$$\\frac{d^2y}{dt^2} = \\frac{d^2 y_0}{d \\tau^2} + \\epsilon (\\frac{d^2 y_1}{d \\tau^2} - 2 \\frac{d f_1}{ d \\tau} \\frac{d^2 y_0}{d \\tau^2} - \\frac{d^2 f_1}{d \\tau^2} \\frac{d y_0}{d \\tau}) + ... $$\n",
    "\n",
    "Substituting in gives:\n",
    "\n",
    "$$ \\frac{d^2 y_0}{d \\tau^2} + \\epsilon (\\frac{d^2 y_1}{d \\tau^2} - 2 \\frac{d f_1}{ d \\tau} \\frac{d^2 y_0}{d \\tau^2} - \\frac{d^2 f_1}{d \\tau^2} \\frac{d y_0}{d \\tau}) + ... + (y_0 + \\epsilon y_1 + ...) - \\epsilon (y_0^3+ 3 \\epsilon y_0^2 y_1+ ...) = 0$$\n",
    "\n",
    "To perform the variable change for the ICs, we need to establish a correspondence between our two variable spaces. We will apply the following constraint:\n",
    "\n",
    "$$f_n(\\tau)= 0 at \\tau=0, n=1,2,... $$\n",
    "\n",
    "The ICs reduce to:\n",
    "\n",
    "$$y_0 + \\epsilon y_1 + ... =a, \\tau=0 $$\n",
    "$$\\frac{d y_0}{dt} + \\epsilon \\bigg( \\frac{d y_1}{d \\tau}- \\frac{d f_1}{d \\tau} \\frac{d y_0}{d \\tau} \\bigg) + ... = 0, \\tau=0$$\n",
    "\n",
    "Equating terms gives:\n",
    "\n",
    "$$O(\\epsilon^0): \\frac{d^2 y_0}{d \\tau^2} + y_0 = 0, y_0(0) = a, \\frac{d y_0}{d \\tau}_{tau=0}=0$$\n",
    "\n",
    "which has the solution $y_0 = a cos{\\tau}$\n",
    "\n",
    "$$O(\\epsilon^1): \\frac{d^2 y_1}{d \\tau^2} + y_1 = 2 \\frac{d f_1}{d \\tau} \\frac{d^2 y_0}{d \\tau^2} + \\frac{d^2 f_1}{d \\tau^2} \\frac{d y_0}{d \\tau} + y_0^3$$\n",
    "\n",
    "Substituting $y_0$ gives:\n",
    "\n",
    "$$\\frac{d^2 y_1}{d \\tau^2} + y_1 = \\frac{a^3}{4} \\cos{3 \\tau} - a \\bigg( \\frac{d^2 f_1}{d \\tau^2} \\sin{\\tau} + 2\\frac{d f_1}{d \\tau} \\cos{\\tau} - \\frac{3 a^2}{4}\\cos{\\tau} \\bigg) $$\n",
    "\n",
    "with ICs\n",
    "\n",
    "$$y_1=0, \\frac{d y_1}{d \\tau} + a \\frac{d f_1}{d \\tau} \\sin{\\tau} =0, \\tau=0 $$\n",
    "\n",
    "Solving this looks like it will definitely introduce secular terms. But we have control over the function f. We can use this to cancel the inhomogeneous terms, which give rise to the secular terms:\n",
    "\n",
    "$$ \\frac{d^2 f_1}{d \\tau^2} \\sin{\\tau} + 2\\frac{d f_1}{d \\tau} \\cos{\\tau} = \\frac{3 a^2}{4}\\cos{\\tau}$$\n",
    "\n",
    "This can be rewritten as:\n",
    "\n",
    "$$\\frac{d}{d \\tau} \\bigg[ \\sin^2{\\tau} \\frac{d f_1}{d \\tau} \\bigg] = \\frac{3 a^2}{4}\\sin{\\tau}\\cos{\\tau} $$\n",
    "\n",
    "Solving gives:\n",
    "\n",
    "$$f_1 = \\frac{3 a^2}{8} \\tau $$\n",
    "\n",
    "This reduces our problem to:\n",
    "\n",
    "$$\\frac{d2 y_1}{d \\tau^2} + y_1 = \\frac{a^2}{4} \\cos{3 \\tau} $$\n",
    "\n",
    "Solving gives:\n",
    "\n",
    "$$y(t) = a \\cos{\\tau} + \\epsilon \\frac{a^3}{32} (\\cos{\\tau} - \\cos{3 \\tau}) + O(\\epsilon^2) $$\n",
    "\n",
    "$$t = \\tau + \\epsilon\\frac{3a^2}{8} \\tau + ... $$\n",
    "\n",
    "And\n",
    "\n",
    "$$\\tau = \\frac{t}{1 + \\epsilon(3a^2/8)+ ...} = \\bigg( 1 - \\epsilon \\frac{3a^2}{8} \\bigg) = \\omega(\\epsilon, a)t $$\n",
    "\n",
    "Other methods exist for solving secular-type problems, but they can get more complex."
   ]
  },
  {
   "cell_type": "code",
   "execution_count": 58,
   "metadata": {},
   "outputs": [
    {
     "data": {
      "text/plain": [
       "(-3.6, 3.6)"
      ]
     },
     "execution_count": 58,
     "metadata": {},
     "output_type": "execute_result"
    },
    {
     "data": {
      "image/png": "[encoded data removed]",
      "text/plain": [
       "<Figure size 432x288 with 1 Axes>"
      ]
     },
     "metadata": {
      "needs_background": "light"
     },
     "output_type": "display_data"
    }
   ],
   "source": [
    "eps = 1.9\n",
    "a = 1.4\n",
    "\n",
    "t = np.linspace(0, 20, 101)\n",
    "\n",
    "y0 = a*np.cos(t)\n",
    "y1 = y0 + eps*a**3*(np.cos(t) - np.cos(3*t) + 12*t*np.sin(t))/32\n",
    "\n",
    "colors = cm.Blues(np.linspace(0.1, 1, 2))\n",
    "\n",
    "fig, ax = plt.subplots()\n",
    "\n",
    "ax.plot(t, y0, c=colors[0], label='y0')\n",
    "ax.plot(t, y1, c=colors[1], label='y1')\n",
    "\n",
    "ax.legend(fontsize=14)\n",
    "ax.set_ylim([-3.6, 3.6])"
   ]
  },
  {
   "cell_type": "code",
   "execution_count": 55,
   "metadata": {},
   "outputs": [
    {
     "data": {
      "text/plain": [
       "(-1.6, 1.6)"
      ]
     },
     "execution_count": 55,
     "metadata": {},
     "output_type": "execute_result"
    },
    {
     "data": {
      "image/png": "[encoded data removed]",
      "text/plain": [
       "<Figure size 432x288 with 1 Axes>"
      ]
     },
     "metadata": {
      "needs_background": "light"
     },
     "output_type": "display_data"
    }
   ],
   "source": [
    "eps = 1.9\n",
    "a = 1.4\n",
    "\n",
    "t = np.linspace(0, 20, 101)\n",
    "tau = (1 - eps*3*a**2/8)*t\n",
    "\n",
    "y0 = a*np.cos(tau)\n",
    "y1 = y0 + eps*a**3*(np.cos(tau) - np.cos(3*tau))/32\n",
    "\n",
    "colors = cm.Blues(np.linspace(0.1, 1, 2))\n",
    "\n",
    "fig, ax = plt.subplots()\n",
    "\n",
    "ax.plot(t, y0, c=colors[0], label='y0')\n",
    "ax.plot(t, y1, c=colors[1], label='y1')\n",
    "\n",
    "ax.legend(fontsize=14)\n",
    "ax.set_ylim([-1.6, 1.6])\n",
    "#ax.set_xlim([0.0, 5.01])"
   ]
  },
  {
   "cell_type": "code",
   "execution_count": null,
   "metadata": {},
   "outputs": [],
   "source": []
  },
  {
   "cell_type": "code",
   "execution_count": null,
   "metadata": {},
   "outputs": [],
   "source": []
  },
  {
   "cell_type": "code",
   "execution_count": null,
   "metadata": {},
   "outputs": [],
   "source": []
  },
  {
   "cell_type": "markdown",
   "metadata": {},
   "source": [
    "## Boundary layer theory\n",
    "\n",
    "Previously, we saw that boundary value problems can't be expressed using a single asymptotic expression, but rather require the combination of two asymptotic solutions: the *outer expansion* representing the smoothly changing portion of the solution, and the *inner expansion* representing the rapidly changing portion in the boundary layer.\n",
    "\n",
    "Since the width of this layer goes to zero as $\\epsilon \\rightarrow 0$, we need to magnify it to make the variation of y smooth. We will do this by introducing a stretching variable:\n",
    "\n",
    "$$s = \\frac{1 -x}{\\epsilon^\\lambda} $$\n",
    "\n",
    "For a first example, we will continue using the diffusion-reaction system:\n",
    "\n",
    "**Outer expansion**\n",
    "\n",
    "$$y^o(x, \\epsilon) = \\sum_{n=0}^{\\infty}{\\epsilon^n y_n^o(x)}$$\n",
    "\n",
    "Substituting gives:\n",
    "\n",
    "$$O(\\epsilon^0): y_0^o = 0, \\frac{d y_0^o}{dx} = 0, x=0 $$\n",
    "$$O(\\epsilon^1): \\frac{d^2 y_0^o}{dx^2} -  y_1^o = 0, \\frac{d y_1^o}{dx} = 0, x=0 $$\n",
    "$$O(\\epsilon^2): \\frac{d^2 y_1^o}{dx^2} -  y_2^o = 0, \\frac{d y_2^o}{dx} = 0, x=0 $$\n",
    "\n",
    "This leads to the solution\n",
    "\n",
    "$$y^o = 0 $$\n",
    "\n",
    "**Inner expansion**\n",
    "\n",
    "By applying the stretching transformation $s = (1-x)/\\sqrt{\\epsilon}$, we get:\n",
    "\n",
    "$$\\frac{d^2 y}{ds^2} = y, y(0)=1 $$\n",
    "\n",
    "The stretching transformation makes the second-order derivative the same magnitude as y. We do not apply the second BC, as we are only interested in the region within the boundary layer. The inner expansion is obtained from the asymptotic series:\n",
    "\n",
    "$$y^i(s, \\epsilon) = \\sum_{n=0}^{\\infty}\\epsilon^n y_n^i(s) $$\n",
    "\n",
    "This gives the sub-problems:\n",
    "\n",
    "$$O(\\epsilon^0): \\frac{d^2 y_0^i}{ds^2} - y_0^i = 0, y_0^i=1, s=0 $$\n",
    "$$O(\\epsilon^1): \\frac{d^2 y_1^i}{ds^2} - y_1^i = 0, y_1^i=0, s=0 $$\n",
    "\n",
    "Solving the zeroth order term gives:\n",
    "\n",
    "$$y_0^i = (1-C)e^s + Ce^{-s} $$\n",
    "\n",
    "Enter the matching part of this method. There exists a region where the outer and inner solutions overlap e.g. both are valid. For the zeroth-order term, this is obtained from:\n",
    "\n",
    "$$\\lim_{x \\rightarrow 1} y_0^o = \\lim_{s \\rightarrow \\infty} y_0^i$$\n",
    "\n",
    "This leads to the conclusioni that $C=1$. Thus:\n",
    "\n",
    "$$y_0^i = e^{-s}$$\n",
    "\n",
    "The composite solution can be expressed as a sum of the two components:\n",
    "\n",
    "$$y_0^c(x) = y_0^o(x) + y_0^i(x) - (common party) $$\n",
    "\n",
    "In this case, the common part is zero, and\n",
    "\n",
    "$$y_0^c(x) = e^{-\\frac{1-x}{\\sqrt{\\epsilon}}} $$\n",
    "\n",
    "In the above example, the location of the boundary layer was found by looking at the exact solution-- which we won't know when solving these problems for real. Additionally, the matching condition only applies to the zero-order term. So, let's try another problem and see if we can solve it."
   ]
  },
  {
   "cell_type": "markdown",
   "metadata": {},
   "source": [
    "$$\\epsilon \\frac{d^2 y}{dx^2} + \\nu \\frac{dy}{dx} = e^x, x \\in (0,1)$$\n",
    "$$y(0)=\\alpha, y(1)=1 $$\n",
    "\n",
    "where $\\nu = \\pm 1$. The analytical solution is:\n",
    "\n",
    "$$y = c_1 + c_2 e^{- \\nu x/\\epsilon} + \\frac{e^x}{\\nu + \\epsilon} $$\n",
    "\n",
    "where\n",
    "\n",
    "$$c_1 = \\frac{[\\alpha(\\nu + \\epsilon) -1]e^{-\\nu/\\epsilon} + e - (\\nu + \\epsilon)}{(\\nu + \\epsilon)(e^{-\\nu/\\epsilon}-1)} $$\n",
    "\n",
    "$$c_2 = \\frac{(1 - \\alpha)(\\nu + \\epsilon) + 1 - e}{(\\nu + \\epsilon)(e^{-\\nu/\\epsilon}-1)} $$\n",
    "\n",
    "When $\\nu=+1$, the boundary is close to x=0, and when $\\nu=-1$, the boundary is close to x=1:"
   ]
  },
  {
   "cell_type": "code",
   "execution_count": 40,
   "metadata": {},
   "outputs": [
    {
     "data": {
      "text/plain": [
       "<matplotlib.legend.Legend at 0x20070daad68>"
      ]
     },
     "execution_count": 40,
     "metadata": {},
     "output_type": "execute_result"
    },
    {
     "data": {
      "image/png": "[encoded data removed]",
      "text/plain": [
       "<Figure size 432x288 with 1 Axes>"
      ]
     },
     "metadata": {
      "needs_background": "light"
     },
     "output_type": "display_data"
    }
   ],
   "source": [
    "v = 1\n",
    "a = 2\n",
    "x = np.linspace(0, 1, 101)\n",
    "\n",
    "fig, ax = plt.subplots()\n",
    "for eps in [0.1, 0.05, 0.01]:\n",
    "    c1 = ((a*(v+eps)-1)*np.exp(-v/eps) + np.exp(1) - (v+eps))/((v+eps)*(np.exp(-v/eps)-1))\n",
    "    c2 = ((1-a)*(v+eps)+1-np.exp(1))/((v+eps)*(np.exp(-v/eps)-1))\n",
    "    y = c1+ c2*np.exp(-v*x/eps) + np.exp(x)/(v+eps)\n",
    "    ax.plot(x, y, label=r'$\\epsilon$ = {}'.format(eps))\n",
    "\n",
    "ax.plot(x, 1 - np.exp(1)+ np.exp(x), label=r'$\\epsilon$ = 0')\n",
    "ax.legend()"
   ]
  },
  {
   "cell_type": "code",
   "execution_count": 38,
   "metadata": {},
   "outputs": [
    {
     "data": {
      "text/plain": [
       "<matplotlib.legend.Legend at 0x20070cb6b70>"
      ]
     },
     "execution_count": 38,
     "metadata": {},
     "output_type": "execute_result"
    },
    {
     "data": {
      "image/png": "[encoded data removed]",
      "text/plain": [
       "<Figure size 432x288 with 1 Axes>"
      ]
     },
     "metadata": {
      "needs_background": "light"
     },
     "output_type": "display_data"
    }
   ],
   "source": [
    "v = -1\n",
    "a = 2\n",
    "x = np.linspace(0.0001, 0.999, 101)\n",
    "\n",
    "fig, ax = plt.subplots()\n",
    "for eps in [0.1, 0.05, 0.01]:\n",
    "    c1 = ((a*(v+eps) -1)*np.exp(-v/eps) + np.exp(1) - (v+eps))/((v+eps)*(np.exp(-v/eps)-1))\n",
    "    c2 = ((1-a)*(v+eps)+1-np.exp(1))/((v+eps)*(np.exp(-v/eps)-1))\n",
    "    y = c1+ c2*np.exp(-v*x/eps) + np.exp(x)/(v+eps)\n",
    "    ax.plot(x, y, label=r'$\\epsilon$ = {}'.format(eps))\n",
    "\n",
    "ax.plot(x, 1 + a - np.exp(x), label=r'$\\epsilon$ = 0')\n",
    "ax.legend()"
   ]
  },
  {
   "cell_type": "markdown",
   "metadata": {},
   "source": [
    "We have also plotted the solutions obtained when $\\epsilon=0$ (aka the zeroth-order terms of the outer expansions). These give good approximations for most of the domain, but break down in the boundary layer region. It appears that the boundary condition contained by the boundary layer actually doesn't affect most of the solution. This is a characteristic of boundary layer problems.\n",
    "\n",
    "The location of the boundary layer isn't always obvious, and may require some analysis. Some useful hints can be given in the case of physical problems. When no hints are given, there is a useful procedure for determining it. This method will give us the location of the boundary layer as well as the form of the stretching transformation.\n",
    "\n",
    "1. **Assume the boundary layer is at x=0.** Determine the zeroth-order term of the outer expansion:\n",
    "\n",
    "$$\\nu \\frac{d y_0^o}{dx} = e^x, y_0^o(1)=1 $$\n",
    "\n",
    "which gives:\n",
    "\n",
    "$$y_0^o = 1 + \\frac{1}{\\nu}(e^x - e) $$\n",
    "\n",
    "For the inner expansion:\n",
    "\n",
    "$$s = \\frac{x}{\\epsilon^\\lambda}$$. Within the overlapping region (near 0), the two limits hold simultaneously. Substituting gives:\n",
    "\n",
    "$$\\frac{d^2 y}{ds^2} + v\\epsilon^{\\lambda-1}\\frac{dy}{ds} = \\epsilon^{2 \\lambda -1} e^{s \\epsilon^\\lambda} $$\n",
    "\n",
    "And substituting the power series expansion into this expression gives:\n",
    "\n",
    "$$\\bigg[ \\frac{d^2 y_0^i}{ds^2} + \\epsilon \\frac{d^2 y_1^i}{ds^2} + ... \\bigg] + \\nu \\epsilon^{\\lambda-1}\\bigg[ \\frac{d y_0^i}{ds} + \\epsilon \\frac{dy_1^i}{ds} + ...  \\bigg] = \\epsilon^{2 \\lambda -1}[1 - s \\epsilon^{\\lambda}+ ...], y_0^i + \\epsilon y_1^i + ... \\alpha, s=0$$\n",
    "\n",
    "The equation for the zeroth order term of the inner expansion will de different depending on the value of $\\lambda$:\n",
    "\n",
    "**Case 1: $\\lambda > 0$**\n",
    "\n",
    "The zero-order term becomes:\n",
    "\n",
    "$$\\frac{d^2y_0^i}{ds^2} = 0, y_0^i(0) = \\alpha $$\n",
    "\n",
    "Integrating gives:\n",
    "\n",
    "$$y_0^i = \\alpha + Cs $$\n",
    "\n",
    "where C is found by matching terms with the zeroth order term of the outer expansion. This becomes:\n",
    "\n",
    "$$\\lim_{s \\rightarrow \\infty}{\\alpha + Cs} = \\lim_{x \\rightarrow 0}{1 + \\frac{1}{\\nu}(e^x - e)}$$\n",
    "\n",
    "which only allow C=0. This gives $\\alpha = [1 + (1\\nu)(1-e)]$. But this doesn't admit a general solution, and the stretching transformation cannot work in this case.\n",
    "\n",
    "**Case 2: $\\lambda = 1$**\n",
    "\n",
    "The zero-order term becomes:\n",
    "\n",
    "$$\\frac{d^2y_0^i}{ds^2} + \\nu \\frac{dy_0^i}{ds} = 0, y_0^i(0) = \\alpha $$\n",
    "\n",
    "The solution is:\n",
    "\n",
    "$$y_0^i = \\alpha - C(1 - e^{-\\nu s})$$\n",
    "\n",
    "By applying the matching condition,\n",
    "\n",
    "$$\\lim_{s \\rightarrow \\infty}{\\alpha - C(1 - e^{-\\nu s})} = \\lim_{s \\rightarrow 0}{1 + \\frac{1}{\\nu}(e^x - e)}$$\n",
    "\n",
    "For $\\nu=+1$, this admits $C=\\alpha - 2 + e$. For $\\nu=-1$, the only admissible solution is C=0, and a solution only exists then for the special case $\\alpha=e$. Since the solution is fully satisfactory for the $\\nu=+1$ case, the BC is indeed close to 0. \n",
    "\n",
    "**Case 3: $0 < \\lambda < 1$**\n",
    "\n",
    "In this case... ??? \n",
    "\n",
    "Either way, it doesn't work.\n",
    "\n",
    "2. **Assume the boundary layer is at x=1.** Determine the zeroth-order term of the outer expansion:\n",
    "\n",
    "In this case, the outer expansion has to account for the condition at the opposite boundary:\n",
    "\n",
    "$$\\nu \\frac{d y_0^o}{dx} = e^x, y_0^o(0) = \\alpha $$\n",
    "\n",
    "and the solution is:\n",
    "\n",
    "$$y_0^o = \\alpha - \\frac{1}{\\nu}(1 - e^{x}) $$\n",
    "\n",
    "We use the stretching transformation:\n",
    "\n",
    "$$s = \\frac{1 - x}{\\epsilon^\\lambda} $$\n",
    "\n",
    "In this case, the overlapping region is near x=1. For the inner expansion, we get the expression:\n",
    "\n",
    "$$\\bigg[ \\frac{d^2 y_0^i}{ds^2} + \\epsilon \\frac{d^2 y_1^i}{ds^2} + ... \\bigg] - \\nu \\epsilon^{\\lambda-1}\\bigg[ \\frac{d y_0^i}{ds} + \\epsilon \\frac{dy_1^i}{ds} + ...  \\bigg] = e \\epsilon^{2 \\lambda -1}[1 - s \\epsilon^{\\lambda}+ ...], y_0^i + \\epsilon y_1^i + ... = 1, s=0$$\n",
    "\n",
    "**Case 1: $\\lambda > 0$**\n",
    "\n",
    "The zero-order terms becomes:\n",
    "\n",
    "$$\\frac{d^2 y_0^i}{ds^2} = 0, y_0^i(0)= 1 $$\n",
    "\n",
    "whose solution is $y_0^i = 1 + Cs$\n",
    "\n",
    "Like the case above, this doesn't have a solution using this method.\n",
    "\n",
    "**Case 2: $\\lambda$=1**\n",
    "\n",
    "In this case, \n",
    "\n",
    "$$\\frac{d^2y_0^i}{ds^2} - \\nu \\frac{dy_0^i}{ds} = 0, y_0^i(0) = 1 $$\n",
    "\n",
    "Thus,\n",
    "\n",
    "$$y_0^i = 1 - C(1 - e^{\\nu s}) $$\n",
    "\n",
    "Matching terms gives $C = e - \\alpha$ when $\\nu = -1$. But when $\\nu=+1$, the only possible solution is C=0, only valid in the special case $\\alpha=2- e$. \n",
    "\n",
    "**Case 3: $0< \\lambda < 1$**\n",
    "\n",
    "Similarly to the problem above, no solution.\n",
    "\n",
    "Summarizing, the problem admits a boundary layer located at x=0 if $\\nu=+1$ and at x=1 if $\\nu=-1$. The stretching transformations are $s=x/\\epsilon$ for the first case and $s=(1-x)/\\epsilon$ in the second case.\n"
   ]
  },
  {
   "cell_type": "markdown",
   "metadata": {},
   "source": [
    "## Matching principle\n",
    "\n",
    "We showed how to match terms in the inner and outer solutions for a zero-order solution, but this is not generally applicable for higher order solutions. We need to show how to generalize this.\n",
    "\n",
    "To demonstrate, we will continue using our diffusion-reaction problem in the case when $\\nu=+1$. The outer solution expansion is expressed as:\n",
    "\n",
    "$$y^o = \\sum_{n=0}^{\\infty}{\\epsilon^n y_n^o(x)} $$\n",
    "\n",
    "Substituting and comparing terms of like powers of $\\epsilon$:\n",
    "\n",
    "$$O(\\epsilon^0): \\frac{dy_0^o}{dx} = e^x, y_0^o(1)=1 $$\n",
    "$$O(\\epsilon^1): \\frac{d^2 y_0^o}{dx^2} + \\frac{dy_1^o}{dx} = 0, y_1^o(1)=0 $$\n",
    "\n",
    "The solution becomes:\n",
    "\n",
    "$$y^o = (e^x + 1 - e) + \\epsilon (e - e^x) + O(\\epsilon^2) $$\n",
    "\n",
    "Doing the same thing for the inner solution and our stretching transformation $s=x/\\epsilon$:\n",
    "\n",
    "$$O(\\epsilon^0): \\frac{d^2y_0^i}{ds^2} + \\frac{dy_0^i}{d} = 0, y_0^i(0)=\\alpha $$\n",
    "$$O(\\epsilon^1): \\frac{d^2 y_0^i}{ds^2} + \\frac{dy_1^i}{ds} = 1, y_1^o(0)=0 $$\n",
    "\n",
    "Which leads to the solution:\n",
    "\n",
    "$$y^i = [\\alpha - C_1(1 - e^{-s})] + \\epsilon[C_2(1 - e^{-s}) + s]+ O(\\epsilon^2) $$\n",
    "\n",
    "where C_1 and C_2 are integration constants to be found using the matching principle:\n",
    "\n",
    "The m-term outer expansion of the k-term inner solution equals the k-term inner expansion of the m-term outer expansion. The m-term outer expansion of an inner solution is given by:\n",
    "\n",
    "$$\\lim_{\\epsilon \\rightarrow 0}{u^i \\bigg( \\frac{x}{\\epsilon} \\bigg)} $$\n",
    "\n",
    "And the k-term inner expansion of an outer solution is given by:\n",
    "\n",
    "$$\\lim_{\\epsilon \\rightarrow 0}{u_o(s \\epsilon)}$$\n",
    "\n",
    "**Case 1: k=m=1 **\n",
    "\n",
    "The first-term outer solution is $y^o = e^x + 1 - e$, and its first-term inner expansion is:\n",
    "\n",
    "$$e^{\\epsilon s} + 1 - e = 2 - e $$\n",
    "\n",
    "The first-term solution is $y_i = \\alpha - C_1(1 - e^{-s})$, and its first-term outer expansion is:\n",
    "\n",
    "$$\\alpha - C_1(1 - e^{-s/\\epsilon}) = \\alpha - C_1 $$\n",
    "\n",
    "Equating these two using the matching principle:\n",
    "\n",
    "$$C_1 = \\alpha - 2 + e $$\n",
    "\n",
    "**Case 2: k=m=2 **\n",
    "\n",
    "Two-term outer solution and its two-term inner expansion is:\n",
    "\n",
    "$$e^{\\epsilon s} + 1 - e + \\epsilon(e - e^{\\epsilon s}) = (2 - e)+ \\epsilon(s + e - 1) $$\n",
    "\n",
    "And the two-term inner solution and its two-term outer expansion is:\n",
    "\n",
    "$$[\\alpha - C_1(1 - e^{-x/\\epsilon})] + \\epsilon \\bigg[ C_2(1 - e^{-x/\\epsilon}) + \\frac{x}{\\epsilon} \\bigg]  = (\\alpha - C_1 + x) + \\epsilon C_2$$\n",
    "\n",
    "It follows that:\n",
    "\n",
    "$$C_1 = \\alpha - 2 + e $$\n",
    "$$C_2 = e - 1 $$\n",
    "\n"
   ]
  },
  {
   "cell_type": "code",
   "execution_count": null,
   "metadata": {},
   "outputs": [],
   "source": []
  }
 ],
 "metadata": {
  "kernelspec": {
   "display_name": "Python 3",
   "language": "python",
   "name": "python3"
  },
  "language_info": {
   "codemirror_mode": {
    "name": "ipython",
    "version": 3
   },
   "file_extension": ".py",
   "mimetype": "text/x-python",
   "name": "python",
   "nbconvert_exporter": "python",
   "pygments_lexer": "ipython3",
   "version": "3.7.2"
  }
 },
 "nbformat": 4,
 "nbformat_minor": 2
}
