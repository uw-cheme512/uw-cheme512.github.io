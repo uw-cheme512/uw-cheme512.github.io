{
 "cells": [
  {
   "cell_type": "markdown",
   "metadata": {},
   "source": [
    "# Welcome to the Awesome-sauce, let be your guide to radness"
   ]
  },
  {
   "cell_type": "markdown",
   "metadata": {},
   "source": [
    "### Heat transfer model: Extended Surface of An Infinite Rod\n",
    "\n",
    "\n",
    "\n",
    "#### 1.) Diagram:\n",
    "\n",
    "![](Heatmodel.png)"
   ]
  },
  {
   "cell_type": "markdown",
   "metadata": {},
   "source": [
    "#### 2.) A mathematical expression of the unsolved differential equation, with an explanation of each term:\n",
    "\n",
    "$$ Q_x = Q_{x+\\Delta x} + Q_{convection} $$\n",
    "\n",
    "| Letter  | Meaning              | Units |\n",
    "|---------|----------------------|-------|\n",
    "| T       | Temperature          | k     |\n",
    "| m       | $\\sqrt{\\frac{hP}{kA}}$       | $m^{-1}$  |\n",
    "| P       | perimeter            | m     |\n",
    "| A       | Cross Sectional Area | $m^2$   |\n",
    "| x       | distance from origin | m     |\n",
    "\n"
   ]
  },
  {
   "cell_type": "markdown",
   "metadata": {},
   "source": [
    "#### 3.) Explanation of expected behavior\n",
    "\n",
    "As h/k decreases, the temperature profile should dimish slower in respect to x\n",
    "\n",
    "This can be proved by setting h to zero to get no convective heat transfer, meaning the rod will never decrease in temperature in respect to x.\n"
   ]
  },
  {
   "cell_type": "markdown",
   "metadata": {},
   "source": [
    "#### 4.) A step-by-step solution of the differential equation using analytical methods\n",
    "\n",
    "\n",
    "Equation 1: $$ Q_x = Q_{x+\\Delta x} + Q_{convection} $$\n",
    "\n",
    "Equation 2: $$ \\frac{dQ_x}{dx} = \\frac{Q_{x+\\Delta x} - Q_x}{\\Delta x} $$\n",
    "\n",
    "Equation 2 (rearranged): $$ Q_{x+\\Delta x} =  \\frac{dQ_x}{dx}\\Delta x + Q_X $$\n",
    "\n",
    "Equation 3: $$ Q_{convection} =  hA[T-T_{\\infty}] $$\n",
    "\n",
    "Combining equations 1, 2, and 3 yields:\n",
    "\n",
    "$$ Q_x = \\frac{dQ_x}{dx}\\Delta x + Q_X +  hA_{shell}[T-T_{\\infty}] $$\n",
    " \n",
    "$$ 0 = \\frac{d({kA_{cross}}\\frac{dT}{dx})}{dx}\\Delta x +  hP\\Delta x[T-T_{\\infty}] $$\n",
    "\n",
    "$$ 0 = kA_{cross} \\frac{d^2T}{dx^2} +  hP[T-T_{\\infty}] $$ \n",
    "\n",
    "Substitute $ m^2 = \\frac{hP}{kA_{cross}}:$\n",
    "\n",
    "$$ 0 =  \\frac{d^2T}{dx^2} +  m^2[T-T_{\\infty}] $$ \n",
    "\n",
    "Solving the equation yields:\n",
    "\n",
    "$$ T(x) = C_1e^{-mx} + C_2e^{mx} + T_{\\infty} $$ \n",
    "\n",
    "The $ C_2e^{mx} $ can be ignored because the fin does not increase with temperature \n",
    "\n",
    "$$ T(x) = C_1e^{-mx} + T_{\\infty} $$\n",
    "\n",
    "Applying the boundary condition of T(0) = T_o:\n",
    "\n",
    "$$ T_o = C_1e^{-m*0} + T_{\\infty} $$\n",
    "\n",
    "$$  C_1  = T_o - T_{\\infty} $$\n",
    "\n",
    "Therefore the final solution is:\n",
    "\n",
    "$$ T = (T_o - T_{\\infty})e^{-mx} + T_{\\infty} $$"
   ]
  },
  {
   "cell_type": "markdown",
   "metadata": {},
   "source": [
    "#### 5.) A plot of the solution and an explanation of its behavior"
   ]
  },
  {
   "cell_type": "code",
   "execution_count": 108,
   "metadata": {},
   "outputs": [
    {
     "data": {
      "text/plain": [
       "Text(0,0.5,'T(x)')"
      ]
     },
     "execution_count": 108,
     "metadata": {},
     "output_type": "execute_result"
    },
    {
     "data": {
      "image/png": "[encoded data removed]",
      "text/plain": [
       "<Figure size 432x288 with 1 Axes>"
      ]
     },
     "metadata": {
      "needs_background": "light"
     },
     "output_type": "display_data"
    }
   ],
   "source": [
    "import numpy as np\n",
    "import math as mt\n",
    "import matplotlib.pyplot as plt\n",
    "from array import *\n",
    "\n",
    "T_0 = 200\n",
    "T_inifity = 100\n",
    "\n",
    "k = 385.0 # for copper\n",
    "h = [0,0.005, 2, 5, 10,100]\n",
    "\n",
    "\n",
    "r = 5.0/100\n",
    "\n",
    "A = float(mt.pi*r**2)\n",
    "P = float(2*mt.pi*r)\n",
    "\n",
    "\n",
    "x = np.linspace(0,10,100)\n",
    "T = 0*x\n",
    "string = ['','']\n",
    "for e in range(0,len(h)):\n",
    "    ratio = h[e]/k\n",
    "    for i in range(0,len(x)):\n",
    "        m = (ratio*P/(A))**0.5\n",
    "        T[i] = (T_0-T_inifity)*mt.exp(-m*x[i]) + T_inifity\n",
    "    plt.plot(x,T,label = 'h/k = %.5f' %ratio )\n",
    "\n",
    "plt.legend()\n",
    "plt.xlabel('x')\n",
    "plt.ylabel('T(x)')"
   ]
  }
 ],
 "metadata": {
  "kernelspec": {
   "display_name": "Python 3",
   "language": "python",
   "name": "python3"
  },
  "language_info": {
   "codemirror_mode": {
    "name": "ipython",
    "version": 3
   },
   "file_extension": ".py",
   "mimetype": "text/x-python",
   "name": "python",
   "nbconvert_exporter": "python",
   "pygments_lexer": "ipython3",
   "version": "3.7.2"
  }
 },
 "nbformat": 4,
 "nbformat_minor": 2
}
