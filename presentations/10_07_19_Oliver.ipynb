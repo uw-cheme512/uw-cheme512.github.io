{
 "cells": [
  {
   "cell_type": "markdown",
   "metadata": {
    "slideshow": {
     "slide_type": "slide"
    }
   },
   "source": [
    "# <center>Method of Engineering Analysis</center>\n",
    "## <center>Analysis Problem 1.2.1 from Conduction Heat Solution Manual</center>\n",
    "\n",
    "### <center>Present by Oliver Zhu</center>"
   ]
  },
  {
   "cell_type": "markdown",
   "metadata": {
    "slideshow": {
     "slide_type": "slide"
    }
   },
   "source": [
    "\n",
    "![Problem Diagram](Img/theImage.png)\n"
   ]
  },
  {
   "cell_type": "markdown",
   "metadata": {
    "slideshow": {
     "slide_type": "slide"
    }
   },
   "source": [
    "### Starting with the Energy Conservation Equation\n",
    "$$\\frac{\\partial T}{\\partial t} + v_x\\frac{\\partial T}{\\partial x} + v_y\\frac{\\partial T}{\\partial y} + v_z\\frac{\\partial T}{\\partial z} = \\alpha [\\frac{\\partial^2T}{\\partial x^2}+\\frac{\\partial^2T}{\\partial y^2}+\\frac{\\partial^2T}{\\partial z^2}] + \\frac{H_v}{\\rho \\hat C_p }$$ From Chapter 2.4 (Deen)\n",
    "\n",
    "#### After remove all zeros term, the Equationn becomes \n",
    "$$\\alpha [\\frac{\\partial^2T}{\\partial x^2}] +\\frac{H_v}{\\rho \\hat C_p } = 0$$"
   ]
  },
  {
   "cell_type": "markdown",
   "metadata": {
    "slideshow": {
     "slide_type": "slide"
    }
   },
   "source": [
    "| Symbol | Meaning | Expression | Unit |\n",
    "| --- | --- | --- | --- |\n",
    "| $H_v$ | Heat transfer coefficient | --- |$\\frac{W}{mC}$ |\n",
    "| $\\alpha$ | Thermal diffusivity | --- |$\\frac{m^2}{s}$ |\n",
    "| k | Thermal Conductivity | $\\alpha \\rho \\hat C_p$ | $\\frac{W}{mK}$ |\n",
    "| $\\hat C_p$ | Specific heat capacity | --- |$\\frac{J}{kg K}$ |\n",
    "| $q'''$ | Volumetric heating rate | --- |$\\frac{W}{m^3}$ |\n",
    "| $P_0$ | Pomerantsev modulus | $\\frac{q''' l^2}{k \\Delta T}$ |Unitless |\n"
   ]
  },
  {
   "cell_type": "markdown",
   "metadata": {
    "slideshow": {
     "slide_type": "slide"
    }
   },
   "source": [
    "$$\\alpha [\\frac{\\partial^2T}{\\partial x^2}] = -\\frac{H_v}{\\rho \\hat C_p }$$\n",
    "The general solution we can assume is $$y = c_1 x^2 +c_2 x + c_3$$\n",
    "Then we only need to integrate twice to get the solution\n",
    "\n",
    "$$\\frac{\\partial T}{\\partial x} = 2c_1x+c_2$$\n",
    "$$\\frac{\\partial^2T}{\\partial x^2} = 2c_1$$\n",
    "Therefore, $c_1 = -\\frac{H_v}{2\\alpha \\rho \\hat C_p}$\n",
    "$$$$\n",
    "Then Apply bondary condition when $x = 0, T = T_1$, we will get $c_3 = T_1$\n"
   ]
  },
  {
   "cell_type": "markdown",
   "metadata": {
    "slideshow": {
     "slide_type": "slide"
    }
   },
   "source": [
    "Then Apply bondary condition when $x = l, T = T_2$, we will get $c_2 = \\frac{T_2-T_1+\\frac{H_v l^2}{2\\alpha \\rho \\hat C_p}}{l}$\n",
    "So the Solution is $$T = \\frac{-H_v}{2\\alpha \\rho \\hat C_p}x^2 + \\frac{T_2-T_1+\\frac{H_v l^2}{2\\alpha \\rho \\hat C_p}}{l} x + T_1$$\n",
    "\n",
    "While the Given solution is $$\\frac{T-T_1}{T_2-T_1} = x + P_0\\frac{x(1-x)}{2}$$\n",
    "After converting $P_0$ and k, the solution will be matched.\n"
   ]
  },
  {
   "cell_type": "markdown",
   "metadata": {
    "slideshow": {
     "slide_type": "subslide"
    }
   },
   "source": [
    "In general, this result would strongly dependent on the x and $P_0$"
   ]
  },
  {
   "cell_type": "markdown",
   "metadata": {
    "slideshow": {
     "slide_type": "slide"
    }
   },
   "source": [
    "First Draw the relationship diagram between T and x, which gives us a quadratic equation:\n",
    "$$T = -\\frac{P_0\\Delta T}{2}x^2 + (\\Delta T +\\frac{P_0\\Delta T}{2})x+T_1$$\n",
    "This function allow us to find the trend and the peak value. \n",
    "For example, the peak value for this function is $(\\frac{1}{P_0}+\\frac{1}{2},\\ \\frac{\\Delta T}{2P_0}+\\frac{P_0 \\Delta T}{8}+\\frac{\\Delta T}{2}+T_1)$ $$$$\n",
    "If we assume $P_0$ = 2, $T_2$ = 400, $T_1$ = 350, then this value of T will increae until x arrives 1, and peak is (1,400), the graph would show below."
   ]
  },
  {
   "cell_type": "code",
   "execution_count": null,
   "metadata": {
    "slideshow": {
     "slide_type": "slide"
    }
   },
   "outputs": [],
   "source": [
    "import matplotlib.pyplot as plt\n",
    "import numpy as np\n",
    "x = np.linspace(0,2,20);\n",
    "T = -50*x**2 +100*x +350;\n",
    "plt.figure(figsize = (7,5))\n",
    "plt.plot(x,T)\n",
    "plt.title(\"Temperature vs. Position\")\n",
    "plt.xlabel(\"Position in m\")\n",
    "plt.ylabel(\"Temperature in C\")"
   ]
  },
  {
   "cell_type": "code",
   "execution_count": null,
   "metadata": {
    "slideshow": {
     "slide_type": "slide"
    }
   },
   "outputs": [],
   "source": [
    "import numpy as np\n",
    "import matplotlib.pyplot as plt\n",
    "\n",
    "Po = [0.01, 0.1, 1, 10]\n",
    "fig, ax = plt.subplots()\n",
    "x = np.linspace(0, 1, 100)\n",
    "\n",
    "for P in Po:\n",
    "    print(P)\n",
    "    th = x + P*x*(1-x)/2\n",
    "    ax.plot(x, th, label=\"Po = {}\".format(P))\n",
    "\n",
    "ax.legend()"
   ]
  },
  {
   "cell_type": "markdown",
   "metadata": {
    "slideshow": {
     "slide_type": "slide"
    }
   },
   "source": [
    "Verify with the Finite difference Method \n",
    "$$\\Delta a_n= \\Delta (a_{n+1} - \\Delta a_n)$$\n",
    "$$\\Delta^2 a_n = \\Delta (a_{n+1})-\\Delta(a_n) = a_{n+2}-2a_{n+1}+a_n$$\n",
    "$$$$In general, the difference equation was\n",
    "$$\\Delta ^k(a_n) = \\Delta ^{k-1}(a_{n+1})-\\Delta ^{k-1}(a_n) = \\sum_{t=0} ^k (k t) (-1)^t \\ a_{n+k-t}$$"
   ]
  },
  {
   "cell_type": "markdown",
   "metadata": {
    "slideshow": {
     "slide_type": "subslide"
    }
   },
   "source": [
    "Now, we can discuss the relation between T and $P_0$. \n",
    "First we assume x = 0.5, $T_1 = 350$, $T_2 = 400$,then the equation becomes \n",
    "$$T_{x=0.5} = -6.25P_0 + 375$$\n",
    "Second when x = 1,the equation becomes to \n",
    "$$T_{x=1} = 400$$\n",
    "Third when x = 1.5, the equation becomes to \n",
    "$$T_{x=1.5} = -18.75P_0 + 425$$\n",
    "Next when x = 2, the equation becomes to \n",
    "$$T_{x=2} = -50P_0 + 450$$"
   ]
  },
  {
   "cell_type": "code",
   "execution_count": null,
   "metadata": {
    "slideshow": {
     "slide_type": "notes"
    }
   },
   "outputs": [],
   "source": [
    "import matplotlib.pyplot as plt\n",
    "import numpy as np\n",
    "P = np.linspace(0,3,20);\n",
    "T_05 = -6.25*P+375;\n",
    "T_1 = 400\n",
    "T_15 = -18.75*P +425;\n",
    "T_2 = -50*P + 450\n",
    "fig, ax = plt.subplots(figsize=(5,5))\n",
    "ax.plot(P, T_05,label='n = {}'.format(0.5), linewidth=3)\n",
    "#ax.plot(P, T_1,label='n = {}'.format(1), linewidth=3)\n",
    "ax.plot(P, T_15,label='n = {}'.format(1.5), linewidth=3)\n",
    "ax.plot(P, T_2,label='n = {}'.format(2), linewidth=3)\n",
    "ax.legend()"
   ]
  }
 ],
 "metadata": {
  "celltoolbar": "Slideshow",
  "kernelspec": {
   "display_name": "Python 3",
   "language": "python",
   "name": "python3"
  },
  "language_info": {
   "codemirror_mode": {
    "name": "ipython",
    "version": 3
   },
   "file_extension": ".py",
   "mimetype": "text/x-python",
   "name": "python",
   "nbconvert_exporter": "python",
   "pygments_lexer": "ipython3",
   "version": "3.7.2"
  }
 },
 "nbformat": 4,
 "nbformat_minor": 2
}
