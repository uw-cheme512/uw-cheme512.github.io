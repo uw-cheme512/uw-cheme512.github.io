{
 "cells": [
  {
   "cell_type": "markdown",
   "metadata": {},
   "source": [
    "#### Transient Heat Conduction in a Semi-infinite Rdef update_plot(frame_number, zarray, plot):\n",
    "    plot[0].remove()\n",
    "    plot[0] = ax.plot_surface(x, y, zarray[:,:,frame_number], cmap=\"magma\")\n",
    "\n",
    "fig = plt.figure()\n",
    "ax = fig.add_subplot(111, projection='3d')\n",
    "\n",
    "plot = [ax.plot_surface(x, y, zarray[:,:,0], color='0.75', rstride=1, cstride=1)]\n",
    "ax.set_zlim(0,1.1)\n",
    "ani = animation.FuncAnimation(fig, update_plot, frn, fargs=(zarray, plot), interval=1000/fps)ectangular Strip"
   ]
  },
  {
   "cell_type": "markdown",
   "metadata": {},
   "source": [
    "### Diagram"
   ]
  },
  {
   "cell_type": "code",
   "execution_count": 1,
   "metadata": {},
   "outputs": [
    {
     "ename": "FileNotFoundError",
     "evalue": "[Errno 2] No such file or directory: 'img/pres.png'",
     "output_type": "error",
     "traceback": [
      "\u001b[1;31m---------------------------------------------------------------------------\u001b[0m",
      "\u001b[1;31mFileNotFoundError\u001b[0m                         Traceback (most recent call last)",
      "\u001b[1;32m<ipython-input-1-88df4e93c2b3>\u001b[0m in \u001b[0;36m<module>\u001b[1;34m\u001b[0m\n\u001b[0;32m      1\u001b[0m \u001b[1;32mfrom\u001b[0m \u001b[0mIPython\u001b[0m\u001b[1;33m.\u001b[0m\u001b[0mdisplay\u001b[0m \u001b[1;32mimport\u001b[0m \u001b[0mImage\u001b[0m\u001b[1;33m\u001b[0m\u001b[1;33m\u001b[0m\u001b[0m\n\u001b[1;32m----> 2\u001b[1;33m \u001b[0mImage\u001b[0m\u001b[1;33m(\u001b[0m\u001b[0mfilename\u001b[0m\u001b[1;33m=\u001b[0m\u001b[1;34m\"img/pres.png\"\u001b[0m\u001b[1;33m,\u001b[0m \u001b[0mwidth\u001b[0m\u001b[1;33m=\u001b[0m\u001b[1;36m500\u001b[0m\u001b[1;33m,\u001b[0m \u001b[0mheight\u001b[0m\u001b[1;33m=\u001b[0m\u001b[1;36m500\u001b[0m\u001b[1;33m)\u001b[0m\u001b[1;33m\u001b[0m\u001b[1;33m\u001b[0m\u001b[0m\n\u001b[0m",
      "\u001b[1;32m~\\Anaconda3\\lib\\site-packages\\IPython\\core\\display.py\u001b[0m in \u001b[0;36m__init__\u001b[1;34m(self, data, url, filename, format, embed, width, height, retina, unconfined, metadata)\u001b[0m\n\u001b[0;32m   1195\u001b[0m         \u001b[0mself\u001b[0m\u001b[1;33m.\u001b[0m\u001b[0munconfined\u001b[0m \u001b[1;33m=\u001b[0m \u001b[0munconfined\u001b[0m\u001b[1;33m\u001b[0m\u001b[1;33m\u001b[0m\u001b[0m\n\u001b[0;32m   1196\u001b[0m         super(Image, self).__init__(data=data, url=url, filename=filename, \n\u001b[1;32m-> 1197\u001b[1;33m                 metadata=metadata)\n\u001b[0m\u001b[0;32m   1198\u001b[0m \u001b[1;33m\u001b[0m\u001b[0m\n\u001b[0;32m   1199\u001b[0m         \u001b[1;32mif\u001b[0m \u001b[0mself\u001b[0m\u001b[1;33m.\u001b[0m\u001b[0mwidth\u001b[0m \u001b[1;32mis\u001b[0m \u001b[1;32mNone\u001b[0m \u001b[1;32mand\u001b[0m \u001b[0mself\u001b[0m\u001b[1;33m.\u001b[0m\u001b[0mmetadata\u001b[0m\u001b[1;33m.\u001b[0m\u001b[0mget\u001b[0m\u001b[1;33m(\u001b[0m\u001b[1;34m'width'\u001b[0m\u001b[1;33m,\u001b[0m \u001b[1;33m{\u001b[0m\u001b[1;33m}\u001b[0m\u001b[1;33m)\u001b[0m\u001b[1;33m:\u001b[0m\u001b[1;33m\u001b[0m\u001b[1;33m\u001b[0m\u001b[0m\n",
      "\u001b[1;32m~\\Anaconda3\\lib\\site-packages\\IPython\\core\\display.py\u001b[0m in \u001b[0;36m__init__\u001b[1;34m(self, data, url, filename, metadata)\u001b[0m\n\u001b[0;32m    618\u001b[0m             \u001b[0mself\u001b[0m\u001b[1;33m.\u001b[0m\u001b[0mmetadata\u001b[0m \u001b[1;33m=\u001b[0m \u001b[1;33m{\u001b[0m\u001b[1;33m}\u001b[0m\u001b[1;33m\u001b[0m\u001b[1;33m\u001b[0m\u001b[0m\n\u001b[0;32m    619\u001b[0m \u001b[1;33m\u001b[0m\u001b[0m\n\u001b[1;32m--> 620\u001b[1;33m         \u001b[0mself\u001b[0m\u001b[1;33m.\u001b[0m\u001b[0mreload\u001b[0m\u001b[1;33m(\u001b[0m\u001b[1;33m)\u001b[0m\u001b[1;33m\u001b[0m\u001b[1;33m\u001b[0m\u001b[0m\n\u001b[0m\u001b[0;32m    621\u001b[0m         \u001b[0mself\u001b[0m\u001b[1;33m.\u001b[0m\u001b[0m_check_data\u001b[0m\u001b[1;33m(\u001b[0m\u001b[1;33m)\u001b[0m\u001b[1;33m\u001b[0m\u001b[1;33m\u001b[0m\u001b[0m\n\u001b[0;32m    622\u001b[0m \u001b[1;33m\u001b[0m\u001b[0m\n",
      "\u001b[1;32m~\\Anaconda3\\lib\\site-packages\\IPython\\core\\display.py\u001b[0m in \u001b[0;36mreload\u001b[1;34m(self)\u001b[0m\n\u001b[0;32m   1226\u001b[0m         \u001b[1;34m\"\"\"Reload the raw data from file or URL.\"\"\"\u001b[0m\u001b[1;33m\u001b[0m\u001b[1;33m\u001b[0m\u001b[0m\n\u001b[0;32m   1227\u001b[0m         \u001b[1;32mif\u001b[0m \u001b[0mself\u001b[0m\u001b[1;33m.\u001b[0m\u001b[0membed\u001b[0m\u001b[1;33m:\u001b[0m\u001b[1;33m\u001b[0m\u001b[1;33m\u001b[0m\u001b[0m\n\u001b[1;32m-> 1228\u001b[1;33m             \u001b[0msuper\u001b[0m\u001b[1;33m(\u001b[0m\u001b[0mImage\u001b[0m\u001b[1;33m,\u001b[0m\u001b[0mself\u001b[0m\u001b[1;33m)\u001b[0m\u001b[1;33m.\u001b[0m\u001b[0mreload\u001b[0m\u001b[1;33m(\u001b[0m\u001b[1;33m)\u001b[0m\u001b[1;33m\u001b[0m\u001b[1;33m\u001b[0m\u001b[0m\n\u001b[0m\u001b[0;32m   1229\u001b[0m             \u001b[1;32mif\u001b[0m \u001b[0mself\u001b[0m\u001b[1;33m.\u001b[0m\u001b[0mretina\u001b[0m\u001b[1;33m:\u001b[0m\u001b[1;33m\u001b[0m\u001b[1;33m\u001b[0m\u001b[0m\n\u001b[0;32m   1230\u001b[0m                 \u001b[0mself\u001b[0m\u001b[1;33m.\u001b[0m\u001b[0m_retina_shape\u001b[0m\u001b[1;33m(\u001b[0m\u001b[1;33m)\u001b[0m\u001b[1;33m\u001b[0m\u001b[1;33m\u001b[0m\u001b[0m\n",
      "\u001b[1;32m~\\Anaconda3\\lib\\site-packages\\IPython\\core\\display.py\u001b[0m in \u001b[0;36mreload\u001b[1;34m(self)\u001b[0m\n\u001b[0;32m    643\u001b[0m         \u001b[1;34m\"\"\"Reload the raw data from file or URL.\"\"\"\u001b[0m\u001b[1;33m\u001b[0m\u001b[1;33m\u001b[0m\u001b[0m\n\u001b[0;32m    644\u001b[0m         \u001b[1;32mif\u001b[0m \u001b[0mself\u001b[0m\u001b[1;33m.\u001b[0m\u001b[0mfilename\u001b[0m \u001b[1;32mis\u001b[0m \u001b[1;32mnot\u001b[0m \u001b[1;32mNone\u001b[0m\u001b[1;33m:\u001b[0m\u001b[1;33m\u001b[0m\u001b[1;33m\u001b[0m\u001b[0m\n\u001b[1;32m--> 645\u001b[1;33m             \u001b[1;32mwith\u001b[0m \u001b[0mopen\u001b[0m\u001b[1;33m(\u001b[0m\u001b[0mself\u001b[0m\u001b[1;33m.\u001b[0m\u001b[0mfilename\u001b[0m\u001b[1;33m,\u001b[0m \u001b[0mself\u001b[0m\u001b[1;33m.\u001b[0m\u001b[0m_read_flags\u001b[0m\u001b[1;33m)\u001b[0m \u001b[1;32mas\u001b[0m \u001b[0mf\u001b[0m\u001b[1;33m:\u001b[0m\u001b[1;33m\u001b[0m\u001b[1;33m\u001b[0m\u001b[0m\n\u001b[0m\u001b[0;32m    646\u001b[0m                 \u001b[0mself\u001b[0m\u001b[1;33m.\u001b[0m\u001b[0mdata\u001b[0m \u001b[1;33m=\u001b[0m \u001b[0mf\u001b[0m\u001b[1;33m.\u001b[0m\u001b[0mread\u001b[0m\u001b[1;33m(\u001b[0m\u001b[1;33m)\u001b[0m\u001b[1;33m\u001b[0m\u001b[1;33m\u001b[0m\u001b[0m\n\u001b[0;32m    647\u001b[0m         \u001b[1;32melif\u001b[0m \u001b[0mself\u001b[0m\u001b[1;33m.\u001b[0m\u001b[0murl\u001b[0m \u001b[1;32mis\u001b[0m \u001b[1;32mnot\u001b[0m \u001b[1;32mNone\u001b[0m\u001b[1;33m:\u001b[0m\u001b[1;33m\u001b[0m\u001b[1;33m\u001b[0m\u001b[0m\n",
      "\u001b[1;31mFileNotFoundError\u001b[0m: [Errno 2] No such file or directory: 'img/pres.png'"
     ]
    }
   ],
   "source": [
    "from IPython.display import Image\n",
    "Image(filename=\"img/pres.png\", width=500, height=500)"
   ]
  },
  {
   "cell_type": "markdown",
   "metadata": {},
   "source": [
    "#### Problem Statement"
   ]
  },
  {
   "cell_type": "markdown",
   "metadata": {},
   "source": [
    "$$\\kappa \\bigg(\\frac{\\partial^2 T}{\\partial x^2} + \\frac{\\partial^2 T}{\\partial y^2}\\bigg) = \\frac{\\partial T}{\\partial t} ; \\space\\space  x > 0, \\space\\space 0 < y < L,\\space\\space t > 0 $$\n",
    "\n",
    "**Boundary Conditions:**\n",
    "\n",
    "$ BC1: T = 0, \\space\\space x = 0, \\space\\space 0 < y < L, \\space\\space t > 0 $\n",
    "\n",
    "$ BC2: T = 0,\\space\\space x > 0, \\space\\space y = 0, \\space\\space t > 0 $\n",
    "\n",
    "$ BC3: T = 1, \\space\\space x > 0, \\space\\space y = L, \\space\\space t > 0 $\n",
    "\n",
    "**Initial Condition:**\n",
    "\n",
    "$ T = 0, \\space\\space x > 0, \\space\\space 0 < y < L, \\space\\space t = 0 $\n",
    "\n",
    "\n",
    "Note:\n",
    "- Two independent variables\n",
    "- No way to make all BCs homogeneous"
   ]
  },
  {
   "cell_type": "markdown",
   "metadata": {},
   "source": [
    "### Solution"
   ]
  },
  {
   "cell_type": "markdown",
   "metadata": {},
   "source": [
    "Start with the y term. Because the y dimension is finite, first apply the finite fourier transform in the y direction:\n",
    "\n",
    "$$\\frac{\\partial^2 T}{\\partial y^2} \\rightarrow \\frac{\\partial^2 \\phi}{\\partial y^2}= -\\lambda \\phi$$\n",
    "\n",
    "$$ \\lambda= \\frac{(n \\pi)^2}{L^2} ; \\space \\space \\phi= \\sqrt{\\frac{2}{L}} \\sin{\\frac{n \\pi y}{L}}$$\n",
    "\n",
    "$$ T_n(x,t)= \\int_{0}^{L}{T(x,y,t)\\sqrt{\\frac{2}{L}} \\sin{\\frac{n \\pi y}{L}}}dy $$\n",
    "\n",
    "The transformed equation becomes:\n",
    "\n",
    "$$ \\kappa \\bigg(\\frac{\\partial^2 T_n}{\\partial x^2} - \\lambda_n T_n\\bigg)=\\frac{\\partial^2 T_n}{\\partial t} $$\n",
    "\n",
    "But the equation above is still a function of x as well as t, we need to transform again in the x direction, which is semi-infinite; therefore, a sine transform is used. "
   ]
  },
  {
   "cell_type": "markdown",
   "metadata": {},
   "source": [
    "Sine transform:\n",
    "$$ F(\\alpha)= \\sqrt{\\frac{2}{\\pi}}\\int_{0}^{\\infty} {f(x) \\sin{\\alpha x}dx} $$\n",
    "\n",
    "$$f(x)= T_n(x,t) ; F= \\overline{T_n}(\\alpha,t)$$\n",
    "\n",
    "$$ \\overline{T_n}(\\alpha,t)= \\sqrt{\\frac{2}{\\pi}}\\int_{0}^{\\infty} {T_n(x,t) \\sin{\\alpha x}dx} $$\n",
    "\n",
    "The final transform is mixed and, by plugging $T_n(x,t)$ in to the expression for $\\overline{T_n}(\\alpha,t)$ is expressed : \n",
    "\n",
    "$$\\overline{T_n}(\\alpha,t)= \\sqrt{\\frac{2}{\\pi}}\\sqrt{\\frac{2}{L}}\\int_{0}^{\\infty} { \\sin{\\alpha x}dx} \\int_{0}^{L}{T(x,y,t) \\sin{\\frac{n \\pi y}{L}}}dy$$\n"
   ]
  },
  {
   "cell_type": "markdown",
   "metadata": {},
   "source": [
    "Next, the transform must be applied to the entire equation:\n",
    "\n",
    "**First term**\n",
    "$\\kappa \\frac{\\partial^2 T}{\\partial x^2}$\n",
    "\n",
    "$$\\kappa \\sqrt{\\frac{2}{\\pi}}\\sqrt{\\frac{2}{L}}\\int_{0}^{\\infty} \\frac{\\partial^2 T}{\\partial x^2}{ \\sin{\\alpha x}dx} \\int_{0}^{L}{ \\sin{\\frac{n \\pi y}{L}}}dy$$\n",
    "\n",
    "\n",
    "Use the identity:\n",
    "\n",
    "$$\\mathscr{F}_s[T'']=-\\alpha^2\\mathscr{F}_c[T] + \\alpha \\sqrt{\\frac{2}{\\pi}} T(0)$$\n",
    "\n",
    "\n",
    "When BC 1 is applied, the second term in the above equation is equal to zero, once the identity is applied the equation becomes:\n",
    " \n",
    "$$=-\\alpha^2 \\kappa \\sqrt{\\frac{2}{\\pi}}\\sqrt{\\frac{2}{L}}\\int_{0}^{\\infty} T(x,y,t) { \\sin{\\alpha x}dx} \\int_{0}^{L}{ \\sin{\\frac{n \\pi y}{L}}}dy$$\n",
    "\n",
    "Using the transforms defned above, the term becomes:\n",
    "\n",
    "$$ = -\\alpha^2 \\kappa \\overline{T_n}(\\alpha,t)$$\n",
    "\n",
    "\n",
    "**Second term**\n",
    "$\\kappa\\frac{\\partial^2 T}{\\partial y^2}$\n",
    "\n",
    "$$\\kappa \\sqrt{\\frac{2}{\\pi}}\\sqrt{\\frac{2}{L}}\\int_{0}^{\\infty} { \\sin{\\alpha x}dx} \\int_{0}^{L}\\frac{\\partial^2 T}{\\partial y^2}{ \\sin{\\frac{n \\pi y}{L}}}dy$$\n",
    "\n",
    "To reduce the $\\frac{\\partial^2 T}{\\partial y^2}$ term, integrate by parts twice with respect to y and apply BC2 and BC3:\n",
    "\n",
    "$$\\int{u dv}= uv - \\int{vdu}$$\n",
    "\n",
    "$$\\int{\\sin{\\frac{n \\pi y}{L}}} \\frac{\\partial^2 T}{\\partial y^2}= \\sin{\\frac{n \\pi y}{L}}\\frac{\\partial T}{\\partial y} - \\int{\\frac{\\partial T}{\\partial y}\\frac{n \\pi}{L}\\cos{\\frac{n \\pi y}{L}}}$$\n",
    "\n",
    "second dintegration by parts yields:\n",
    "\n",
    "$$=\\kappa \\sqrt{\\frac{2}{\\pi}}\\sqrt{\\frac{2}{L}} (-1)^{n+1}\\frac{n \\pi}{L}\\int_{0}^{\\infty} { \\sin{\\alpha x}dx} - \\kappa \\sqrt{\\frac{2}{\\pi}}\\sqrt{\\frac{2}{L}}\\frac{(n \\pi)^2}{L^2}\\int_{0}^{\\infty} { \\sin{\\alpha x}dx}\\int_{0}^{L}{T(x,y,t) \\sin{\\frac{n \\pi y}{L}}}dy$$\n",
    "\n",
    "From our transform definitions, the second term can be reduced to yield:\n",
    "\n",
    "$$=\\kappa \\sqrt{\\frac{2}{\\pi}}\\sqrt{\\frac{2}{L}} (-1)^{n+1}\\frac{n \\pi}{L}\\int_{0}^{\\infty} { \\sin{\\alpha x}dx} - \\kappa \\frac{(n \\pi)^2}{L^2}\\overline{T_n}(\\alpha,t)$$\n",
    "\n",
    "Identity:\n",
    "\n",
    "$$ \\int_{0}^{\\infty}{e^{-\\epsilon x}\\sin{\\alpha x} dx}= \\frac{\\alpha}{\\epsilon^2-\\alpha^2}$$\n",
    "\n",
    "For our equation, $\\epsilon \\rightarrow 0$, therfore:\n",
    "\n",
    "$$\\int_{0}^{\\infty} { \\sin{\\alpha x}dx}= \\frac{1}{\\alpha}$$\n",
    "\n",
    "The final transformed equation can then be written out as:\n",
    "\n",
    "$$\\frac{d\\overline{T_n}}{dt} -\\alpha^2 \\kappa \\overline{T_n}(\\alpha,t)+ \\kappa \\sqrt{\\frac{2}{\\pi}}\\sqrt{\\frac{2}{L}} (-1)^{n+1}\\frac{n \\pi}{L}\\frac{1}{\\alpha} - \\kappa \\frac{(n \\pi)^2}{L^2}=\\frac{d\\overline{T_n}(\\alpha,t)}{dt}$$\n",
    "\n",
    "This can be simplified to:\n",
    "\n",
    "$$\\frac{1}{\\kappa} \\frac{d\\overline{T_n}}{dt}= -\\bigg[\\alpha^2 + \\frac{(n \\pi)^2}{L^2}\\bigg]\\overline{T_n} + (-1)^{n+1}\\sqrt{\\frac{2}{\\pi}}\\sqrt{\\frac{2}{L}}\\frac{n \\pi}{L}\\frac{1}{\\alpha}$$\n",
    "\n",
    "\n",
    "Integrate and apply the initial condition to obtain:\n",
    "\n",
    "\n",
    "$$\\overline{T_n}(\\alpha,t)=\\sqrt{\\frac{2}{\\pi}}\\sqrt{\\frac{2}{L}}\\frac{(-1)^{n+1} n \\pi}{\\alpha L\\bigg[\\alpha^2-\\frac{(n \\pi)^2}{L^2}\\bigg]} \\bigg[1- \\exp{\\bigg[ -\\bigg(\\alpha^2-\\frac{(n \\pi)^2}{L^2}\\bigg)\\kappa t \\bigg]}\\bigg] $$\n"
   ]
  },
  {
   "cell_type": "markdown",
   "metadata": {},
   "source": [
    "Now we must use inverse transforms to convert the solution from fourier to real space:\n",
    "\n",
    "For the sine transform:\n",
    "\n",
    "$$ T(x,y,t)= \\sqrt{\\frac{2}{\\pi}}\\sqrt{\\frac{2}{L}} \\int_{0}^{\\infty} {\\overline{T_n}(\\alpha,t)\\sin{\\alpha x}} d\\alpha \\sum_{n=1}^{\\infty} {\\sin{\\frac{n\\pi y}{L}}}$$\n",
    "\n",
    "\n",
    "Given:\n",
    "\n",
    "$$\\int_{0}^{\\infty}{\\frac{\\sin{\\alpha x}}{\\alpha \\bigg[\\alpha^2-\\frac{(n \\pi)^2}{L^2}\\bigg]d\\alpha}} = \\frac{L^2}{2 \\pi n^2}\\bigg[1 - \\exp{\\frac{-n\\pi x}{L}}\\bigg]$$\n",
    "\n",
    "\n",
    "Plug $\\overline{T_n}(\\alpha,t)$ in to $T(x,y,t)$ and apply the above integral to obtain the final solution:\n",
    "\n",
    "\n",
    "$$ T(x,y,t)=\\frac{2}{\\pi}\\sum_{n=1}^{\\infty} {\\frac{1}{n} (-1)^{n+1} \\sin{\\frac{n\\pi y}{L}}\\bigg[ 1 - \\exp{\\frac{-n\\pi x}{L}}\\bigg]\\\\ - \\frac{4}{L^2}\\sum_{n=1}^{\\infty}{n(-1)^{n+1} \\sin{\\frac{n \\pi y}{L}}} \\int_{0}^{\\infty}{\\frac{\\sin{\\alpha x}}{\\alpha \\bigg[\\alpha^2-\\frac{(n \\pi)^2}{L^2}\\bigg]d\\alpha} \\exp{-\\bigg( \\alpha^2-\\frac{(n \\pi)^2}{L^2} \\bigg) \\kappa t}d\\alpha }  }$$"
   ]
  },
  {
   "cell_type": "markdown",
   "metadata": {},
   "source": [
    "### Code"
   ]
  },
  {
   "cell_type": "code",
   "execution_count": 7,
   "metadata": {},
   "outputs": [],
   "source": [
    "import numpy as np\n",
    "import matplotlib.pyplot as plt\n",
    "from scipy.integrate import odeint\n",
    "from numpy import linalg as LA\n",
    "from scipy.optimize import newton\n",
    "from mpl_toolkits.mplot3d import axes3d\n",
    "from matplotlib import cm\n",
    "import matplotlib.animation as animation\n",
    "%matplotlib qt"
   ]
  },
  {
   "cell_type": "code",
   "execution_count": null,
   "metadata": {},
   "outputs": [],
   "source": [
    "x = np.linspace(0, 1, 51)\n",
    "y = np.linspace(0, 1, 61)\n",
    "t = np.linspace(0, 2, 41)\n",
    "a = np.linspace(0.00000000000000000001, 100, 201)\n",
    "\n",
    "x4, y4, t4, a4 = np.meshgrid(x, y, t, a)\n",
    "xv, yv, tv = np.meshgrid(x, y, t)\n",
    "\n",
    "da= a[2]-a[1]"
   ]
  },
  {
   "cell_type": "code",
   "execution_count": 9,
   "metadata": {},
   "outputs": [
    {
     "name": "stdout",
     "output_type": "stream",
     "text": [
      "1\n",
      "2\n",
      "3\n",
      "4\n",
      "5\n",
      "6\n",
      "7\n",
      "8\n",
      "9\n",
      "10\n",
      "11\n",
      "12\n",
      "13\n",
      "14\n",
      "15\n",
      "16\n",
      "17\n",
      "18\n",
      "19\n"
     ]
    }
   ],
   "source": [
    "n = 1\n",
    "L = 1\n",
    "k = 1\n",
    "T = 0*xv\n",
    "\n",
    "for n in range(1, 20):\n",
    "    print(n)\n",
    "    integrand = np.sum(da*np.sin(a4*x4)/(a4*(a4**2+(n*np.pi/L)**2))*np.exp(-(a4**2+(n**2*np.pi**2)/L**2)*k*t4), axis=3)\n",
    "    T  += ((2/np.pi)*(1/n)*(-1)**(n+1)*np.sin(n*np.pi*yv/L)*(1-np.exp(-n*np.pi*xv/L)))- 4*n*(-1)**(n+1)*np.sin(n*np.pi*yv/L)*integrand/(L**2)"
   ]
  },
  {
   "cell_type": "code",
   "execution_count": 10,
   "metadata": {},
   "outputs": [
    {
     "data": {
      "text/plain": [
       "Text(0.5, 0, 'T')"
      ]
     },
     "execution_count": 10,
     "metadata": {},
     "output_type": "execute_result"
    }
   ],
   "source": [
    "\n",
    "fig, ax = plt.subplots(figsize=(9, 6))\n",
    "\n",
    "ax = fig.add_subplot(111, projection='3d')\n",
    "\n",
    "Te=T[:,:,0]\n",
    "xp=xv[:,:,0]\n",
    "yp=yv[:,:,0]\n",
    "ax.plot_surface(xp, yp, Te , cmap=cm.coolwarm)\n",
    "ax.set_xlabel('x')\n",
    "ax.set_ylabel('y')\n",
    "ax.set_zlabel('T')  \n",
    "#ax.view_init(elev=41, azim=-149)"
   ]
  },
  {
   "cell_type": "code",
   "execution_count": null,
   "metadata": {},
   "outputs": [],
   "source": [
    "#At x=0, t=0, y=0\n",
    "print(T[0,0,0])\n",
    "\n",
    "#At x=1, y=1, t=0\n",
    "print(T[60,50,0])\n",
    "\n",
    "#At x= approx 0.5, y=approx 0.5, t=0\n",
    "print(T[25,30,0])\n",
    "\n",
    "#At x=0.5, y=0.5, t=10\n",
    "print(T[25,30,20])\n",
    "\n",
    "#At x=1, y=0.5, t=2\n",
    "print(T[50,30,40])"
   ]
  },
  {
   "cell_type": "code",
   "execution_count": null,
   "metadata": {},
   "outputs": [],
   "source": []
  },
  {
   "cell_type": "code",
   "execution_count": null,
   "metadata": {},
   "outputs": [],
   "source": []
  },
  {
   "cell_type": "markdown",
   "metadata": {},
   "source": []
  },
  {
   "cell_type": "code",
   "execution_count": null,
   "metadata": {},
   "outputs": [],
   "source": [
    " "
   ]
  },
  {
   "cell_type": "code",
   "execution_count": null,
   "metadata": {},
   "outputs": [],
   "source": []
  },
  {
   "cell_type": "code",
   "execution_count": null,
   "metadata": {},
   "outputs": [],
   "source": []
  },
  {
   "cell_type": "markdown",
   "metadata": {},
   "source": []
  },
  {
   "cell_type": "code",
   "execution_count": null,
   "metadata": {
    "scrolled": true
   },
   "outputs": [],
   "source": []
  },
  {
   "cell_type": "code",
   "execution_count": null,
   "metadata": {},
   "outputs": [],
   "source": [
    "\n",
    "    "
   ]
  },
  {
   "cell_type": "code",
   "execution_count": null,
   "metadata": {
    "scrolled": true
   },
   "outputs": [],
   "source": []
  },
  {
   "cell_type": "code",
   "execution_count": null,
   "metadata": {},
   "outputs": [],
   "source": []
  },
  {
   "cell_type": "code",
   "execution_count": null,
   "metadata": {},
   "outputs": [],
   "source": []
  }
 ],
 "metadata": {
  "kernelspec": {
   "display_name": "Python 3",
   "language": "python",
   "name": "python3"
  },
  "language_info": {
   "codemirror_mode": {
    "name": "ipython",
    "version": 3
   },
   "file_extension": ".py",
   "mimetype": "text/x-python",
   "name": "python",
   "nbconvert_exporter": "python",
   "pygments_lexer": "ipython3",
   "version": "3.7.2"
  }
 },
 "nbformat": 4,
 "nbformat_minor": 2
}
