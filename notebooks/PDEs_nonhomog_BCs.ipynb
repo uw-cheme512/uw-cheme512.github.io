{
 "cells": [
  {
   "cell_type": "code",
   "execution_count": 5,
   "metadata": {},
   "outputs": [],
   "source": [
    "import numpy as np\n",
    "import matplotlib.pyplot as plt\n",
    "from mpl_toolkits.mplot3d import axes3d\n",
    "from matplotlib import cm\n",
    "%matplotlib qt"
   ]
  },
  {
   "cell_type": "code",
   "execution_count": 11,
   "metadata": {},
   "outputs": [],
   "source": [
    "x = np.linspace(0, 1, 301)\n",
    "t = np.linspace(0, 1, 301)\n",
    "\n",
    "xv, tv = np.meshgrid(x, t)\n",
    "w = 0*xv\n",
    "z = 0*xv\n",
    "W = 0*xv"
   ]
  },
  {
   "cell_type": "code",
   "execution_count": 12,
   "metadata": {},
   "outputs": [],
   "source": [
    "for n in range(1, 200):\n",
    "    z += (2/(np.pi*n))*np.sin(n*np.pi*xv)*np.exp(-n**2*np.pi**2*tv)\n",
    "    W += 2*np.pi*n*np.sin(n*np.pi*xv)*np.exp(-n**2*np.pi**2*tv)\n",
    "\n",
    "w = 1 - x - z\n"
   ]
  },
  {
   "cell_type": "code",
   "execution_count": 15,
   "metadata": {},
   "outputs": [],
   "source": [
    "fig = plt.figure(figsize=(7,7))\n",
    "ax = fig.add_subplot(111, projection='3d')\n",
    "ax.plot_surface(xv, tv, W, cmap=cm.coolwarm)\n",
    "\n",
    "ax.set_xlabel('x')\n",
    "ax.set_ylabel('t')\n",
    "ax.view_init(elev=10, azim=90)"
   ]
  },
  {
   "cell_type": "code",
   "execution_count": null,
   "metadata": {},
   "outputs": [],
   "source": []
  }
 ],
 "metadata": {
  "kernelspec": {
   "display_name": "Python 3",
   "language": "python",
   "name": "python3"
  },
  "language_info": {
   "codemirror_mode": {
    "name": "ipython",
    "version": 3
   },
   "file_extension": ".py",
   "mimetype": "text/x-python",
   "name": "python",
   "nbconvert_exporter": "python",
   "pygments_lexer": "ipython3",
   "version": "3.7.2"
  }
 },
 "nbformat": 4,
 "nbformat_minor": 2
}
