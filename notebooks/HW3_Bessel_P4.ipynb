{
 "cells": [
  {
   "cell_type": "code",
   "execution_count": 1,
   "metadata": {},
   "outputs": [],
   "source": [
    "import numpy as np\n",
    "import matplotlib.pyplot as plt"
   ]
  },
  {
   "cell_type": "markdown",
   "metadata": {},
   "source": [
    "#### Problem 4 (Morbidelli 4.26, modified)\n",
    "\n",
    "Consider a circular fin of thickness b attached to a heated pipe with outside wall temperature $T_0$. Heat loss from the end area ($2 \\pi R_1 b$) may be neglected. The ambient air is maintained at temperature $T_a$.\n",
    "\n",
    "1. Derive an expression for the temperature profile within the fin.\n",
    "2. Derive an expression for the total heat loss from the fin.\n",
    "3. Derive an expression for the fin efficiency, $\\eta$, which is defined as the ratio of heat actually dissipated by the fin, to that which would be lost if the entire fin surface were held at $T_0$.\n",
    "\n",
    "**Plot the temperature profile to make sure your solution makes sense.**"
   ]
  },
  {
   "cell_type": "markdown",
   "metadata": {},
   "source": [
    "The equation for heat conduction in a cylinder is:\n",
    "\n",
    "$$\\frac{1}{r}\\frac{\\partial}{\\partial r}\\bigg( r k\\frac{\\partial T}{\\partial r} \\bigg) + \\frac{\\partial}{\\partial z}\\bigg( k \\frac{\\partial T}{\\partial z} \\bigg) = 0$$\n",
    "\n",
    "There is a convective boundary condition in z:\n",
    "\n",
    "$$-k \\frac{\\partial T}{\\partial z}(r, 0) = h[T_a - T(r, 0)] $$ <br>\n",
    "$$-k \\frac{\\partial T}{\\partial z}(r, b) = h[T_a - T(r, b)] $$\n",
    "\n",
    "The BC in r is:\n",
    "\n",
    "$$T(R_1, z) = T_0 $$ <br>\n",
    "$$T is finite$$\n",
    "\n",
    "It is hinted that we shouldn't have to solve a 2D problem here, and that we can somehow collapse the z dimension, assuming uniformity in the z direction. We need to figure out how to account for our z BCs though. The PDE becomes an ODE with the BC entering as a parameter:\n",
    "\n",
    "$$\\frac{1}{r}\\frac{d}{d r}\\bigg( r \\frac{d T}{d r} \\bigg) = \\frac{h}{kb}[T_a - T] $$\n",
    "\n",
    "This can be rewritten as:\n",
    "\n",
    "$$r\\frac{d^2T}{dr^2} + \\frac{dT}{dr} + \\frac{hbr}{k}(T - T_a) = 0 $$\n",
    "\n",
    "or \n",
    "\n",
    "$$r^2\\frac{d^2T}{dr^2} + r\\frac{dT}{dr} - Bir^2(T - T_a) = 0 $$\n",
    "\n",
    "normalizing with $\\Theta = \\frac{T - T_a}{T_0 - T_a}$ gives\n",
    "\n",
    "$$r^2\\frac{d^2 \\Theta}{dr^2} + r\\frac{d \\Theta}{dr} - Bi r^2\\Theta = 0 $$\n",
    "\n",
    "Using the familiar theorem, we have, $a=1, b=0, c=0, d=-Bi, q=1, p=n$, which gives the following coefficients: $\\alpha=0, \\beta=0, \\lambda=\\sqrt{Bi}, v=0$. This gives a solution of the form:\n",
    "\n",
    "$$\\Theta (r) = c_1 I_0(\\lambda r) + c_2 K_0(\\lambda r) $$\n",
    "\n",
    "The derivative is:\n",
    "\n",
    "$$u'(r) = \\lambda c_1I_1(\\lambda r) + \\lambda c_2K_{-1}(\\lambda r) $$\n",
    "\n",
    "Using this solution and our boundary conditions, we can solve to get:\n",
    "\n",
    "$$c_1 = \\frac{u_0}{I_0(\\lambda R_1)} $$ <br>\n",
    "\n",
    "$$c_2 = 0 $$"
   ]
  },
  {
   "cell_type": "code",
   "execution_count": 20,
   "metadata": {},
   "outputs": [],
   "source": [
    "# h = 100\n",
    "# k = 1\n",
    "# b = 0.01\n",
    "# Ta = 340\n",
    "# T0 = 320\n",
    "# u0 = T0 - Ta\n",
    "# lam = np.sqrt(h/(k*b))\n",
    "# R1 = 0.1\n",
    "# R2 = 1\n",
    "\n",
    "# c1 = u0/(jv(0, lam*R1) - 0*yv(0, lam*R1)*(jv(-1, lam*R2)/yv(-1,lam*R2)))\n",
    "# c2 = -c1*(jv(-1,lam*R2)/yv(-1,lam*R2))*0\n",
    "\n",
    "# r = np.linspace(R1,R2,501)\n",
    "# u = c1*jv(0,lam*r) + c2*yv(0,lam*r)"
   ]
  },
  {
   "cell_type": "code",
   "execution_count": 66,
   "metadata": {},
   "outputs": [
    {
     "data": {
      "text/plain": [
       "0.0"
      ]
     },
     "execution_count": 66,
     "metadata": {},
     "output_type": "execute_result"
    }
   ],
   "source": [
    "c1*lam*iv(-1,0)"
   ]
  },
  {
   "cell_type": "code",
   "execution_count": 48,
   "metadata": {},
   "outputs": [
    {
     "data": {
      "text/plain": [
       "<matplotlib.legend.Legend at 0x1da3fe60780>"
      ]
     },
     "execution_count": 48,
     "metadata": {},
     "output_type": "execute_result"
    },
    {
     "data": {
      "image/png": "[encoded data removed]",
      "text/plain": [
       "<Figure size 432x288 with 1 Axes>"
      ]
     },
     "metadata": {
      "needs_background": "light"
     },
     "output_type": "display_data"
    }
   ],
   "source": [
    "R = 1\n",
    "r = np.linspace(0,1,501)\n",
    "\n",
    "Bis = [0.01, 0.1, 1, 10, 100]\n",
    "\n",
    "fig, ax = plt.subplots(figsize=(6,4))\n",
    "for Bi in Bis:\n",
    "    lam = np.sqrt(Bi)*R\n",
    "    c1 = 1/(iv(0, lam))\n",
    "    u = c1*iv(0,lam*r)\n",
    "    # Note that I had to cheat here to get a solution that made sense...\n",
    "    ax.plot(r[::-1], u, label=r'Bi={}'.format(Bi))\n",
    "\n",
    "ax.legend()"
   ]
  },
  {
   "cell_type": "code",
   "execution_count": 83,
   "metadata": {
    "scrolled": true
   },
   "outputs": [
    {
     "data": {
      "text/plain": [
       "<matplotlib.legend.Legend at 0x1da429ba978>"
      ]
     },
     "execution_count": 83,
     "metadata": {},
     "output_type": "execute_result"
    },
    {
     "data": {
      "image/png": "[encoded data removed]",
      "text/plain": [
       "<Figure size 432x288 with 1 Axes>"
      ]
     },
     "metadata": {
      "needs_background": "light"
     },
     "output_type": "display_data"
    }
   ],
   "source": [
    "R = 1\n",
    "h = 1\n",
    "k = 1\n",
    "r = np.linspace(0,1,501)\n",
    "Ta = 340\n",
    "T0 = 320\n",
    "uf = Ta/T0\n",
    "\n",
    "Bis = [0.01, 0.1, 1]\n",
    "\n",
    "fig, ax = plt.subplots(figsize=(6,4))\n",
    "for Bi in Bis:\n",
    "    lam = np.sqrt(Bi)\n",
    "    c1 = 2*uf*(h/k)/(lam*iv(-1, lam*R)+(h/k)*iv(0, lam*R))\n",
    "    #c1 = (1-uf)/iv(0,0)\n",
    "    u = c1*iv(0,lam*r) - uf\n",
    "    ax.plot(r[::-1], u, label=r'Bi={}'.format(Bi))\n",
    "\n",
    "ax.legend()"
   ]
  },
  {
   "cell_type": "code",
   "execution_count": null,
   "metadata": {},
   "outputs": [],
   "source": []
  }
 ],
 "metadata": {
  "kernelspec": {
   "display_name": "Python 3",
   "language": "python",
   "name": "python3"
  },
  "language_info": {
   "codemirror_mode": {
    "name": "ipython",
    "version": 3
   },
   "file_extension": ".py",
   "mimetype": "text/x-python",
   "name": "python",
   "nbconvert_exporter": "python",
   "pygments_lexer": "ipython3",
   "version": "3.7.2"
  }
 },
 "nbformat": 4,
 "nbformat_minor": 2
}
