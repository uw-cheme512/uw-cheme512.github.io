{
 "cells": [
  {
   "cell_type": "markdown",
   "metadata": {},
   "source": [
    "One of the main things I want you to remember is to learn as much about your given differential equation before you dive into any calculus. You may want to do some rearranging to get it into a standard form. For instance, given the equation:\n",
    "\n",
    "For example, consider the cooling (or heating) of a fluid in a CSTR:\n",
    "\n",
    "$$VC_p\\frac{dT}{dt} = qC_p\\rho(T_f - T) - UA(T - T_a)$$\n",
    "\n",
    "This can be written as:\n",
    "\n",
    "$$\\frac{dT}{dt} = -\\bigg(\\frac{q}{V} + \\frac{UA}{VC_p\\rho}\\bigg)T+ \\bigg(\\frac{q}{V}T_f + \\frac{UAT_a}{VC_p\\rho}\\bigg)$$\n",
    "\n",
    "and even more simply:\n",
    "\n",
    "$$\\frac{dT}{dt} = -a\\bigg(T - \\frac{b}{a}\\bigg)$$ <br>\n",
    "$$a = \\frac{q}{V} + \\frac{UA}{VC_p\\rho}, b=\\frac{q}{V}T_f + \\frac{UAT_a}{VC_p\\rho} $$\n",
    "\n",
    "And I do recommend decluttering all calculations by using substitutions where possible. It will help you not get lost, and missing a term or mixing up a sign are likely the biggest thing to trip you up on homeworks or during a test. I will note that we are going to focus less on formulating problems correctly in this class and more on methods of solving them after they've been formulated. "
   ]
  },
  {
   "cell_type": "markdown",
   "metadata": {},
   "source": [
    "# Identifying the differential equation form\n",
    "\n",
    "After you have simplified the problem, the first thing you should do is try to identify what type of equation you have:\n",
    "\n",
    "* Is it an ODE or PDE?\n",
    "* Is it a single equation or a system of equations?\n",
    "* Is it linear or non-linear?\n",
    "* If it is non-linear, do I know any specific tricks for the given ODE form?\n",
    "* Is it first-order, second-order, higher order?\n",
    "* Is it homogeneous or non-homogeneous?\n",
    "* Is this an initial value problem or a boundary value problem?\n",
    "\n",
    "The answer to each of these questions should help you narrow down which approach to use to solving it. The worst thing you could do is pick a favorite method, only to find out thirty to sixty minutes later that you picked wrong."
   ]
  },
  {
   "cell_type": "markdown",
   "metadata": {},
   "source": [
    "It is easiest to describe each of these if we start with the simplest and then demonstrate how the others deviate from our simple model.\n",
    "\n",
    "### Homogeneous linear ODEs\n",
    "A homogeneous linear ordinary differential equation takes the form:\n",
    "\n",
    "$$a_0(x)y + a_1(x)y' + a_2(x)y'' + ... + a_n(x)y^{(n)} = 0 $$\n",
    "\n",
    "A differential equation constists of independent (x) and dependent (y) variables. They can include multiple derivatives of y. What makes an ODE linear is that y and each derivate of y enter the equation linearly (no powers or other functions involved). The coefficients can be any function of x, and it will still be linear.\n",
    "\n",
    "### Non-homogeneous linear ODEs\n",
    "Non-homogeneous functions have what is known as a forcing function that can change the behavior of the solution:\n",
    "\n",
    "$$a_0(x)y + a_1(x)y' + a_2(x)y'' + ... + a_n(x)y^{(n)} + b(x) = 0 $$\n",
    "\n",
    "Note that this function is still linear. Some methods of solving non-homogeneous linear ODEs involve solving the homogeneous ODE while ignoring the forcing function (the complementary solution) then adding the forcing function back in and solving (the particular solution).\n",
    "\n",
    "$$y = y_h + y_c $$\n",
    "\n",
    "### First-order linear systems of ODEs\n",
    "\n",
    "Some systems we will study will be linked systems of linear ODEs. For simplicity, we will only examine first-order systems of the form:\n",
    "\n",
    "$$y_1'(x) = b_1(x) + a_{1,1}(x)y_1 + ... + a_{1,n}y_n$$ <br>\n",
    "$$y_2'(x) = b_2(x) + a_{2,1}(x)y_1 + ... + a_{2,n}y_n$$ <br>\n",
    "$$...$$ <br>\n",
    "$$y_n'(x) = b_n(x) + a_{n,1}(x)y_1 + ... + a_{n,n}y_n$$\n",
    "\n",
    "Linear systems are nice because we can solve them using matrix math. You can also convert a higher-order linear ODE into a system of first-order linear ODEs and solve with matrix math, adding another tool to your toolbox.\n",
    "\n",
    "### Non-linear ODEs\n",
    "\n",
    "Non-linear ODEs have non-linear terms of y. They take the form:\n",
    "\n",
    "$$a_0(x)f(y) + a_1(x)f(y') + a_2(x)f(y'') + ... + a_n(x)f(y^{(n)}) + b(x) = 0 $$\n",
    "\n",
    "Don't be fooled if a non-linear ODE looks almost like an ODE. They have very different behaviors and can be difficult to solve. There are a few tricks we can leverage for a subset of non-linear ODEs. Others we can solve computationally. And others are as-yet unsolved! The difficulty with non-linear ODEs is the lack of a **superposition principle**: a way of combining known solutions into new solutions when an equation is in a family of known forms. \n",
    "\n",
    "One example of a \"trick\" we can use to solve non-linear ODEs is the separable case. A first-order separable non-linear ODE can be written as:\n",
    "\n",
    "$$\\frac{dy}{dx} = f(x,y) = g(x)h(y)$$\n",
    "\n",
    "### Boundary conditions: IVPs versus BVPs\n",
    "\n",
    "To fully solve any differential equation, you will need a set of boundary conditions to define the solution. For instance, let's look at the second-order differential equation:\n",
    "\n",
    "$$\\frac{d^2y}{dx^2} + p(x)\\frac{dy}{dx} + q(x)y = 0, y(0) = a, \\frac{dy}{dx}(0) = b$$\n",
    "\n",
    "These are known as **initial value problems** because we are provided with the initial conditions (value at x=0) of both y and its first derivative. Alternately, the problem could be given as:\n",
    "\n",
    "$$\\frac{d^2y}{dx^2} + p(x)\\frac{dy}{dx} + q(x)y = 0, y(0) = a, y(1) = b$$\n",
    "\n",
    "In this case, we are given values of y at two points in x space. This is known as a **boundary value problem**. You can solve the problem either way. You may prefer one to the other (you don't have to solve for $\\frac{dy}{dx}$ when you have a BVP). However, when solving computationally, it will change how you solve it. Most solvers require the problem to be formulated as an IVP. You will need to iterate somehow to solve a BVP as an IVP.\n",
    "\n",
    "### PDEs\n",
    "\n",
    "The thing that separates partial differential equations from ordinary differential equations is that they involve partial derivatives and have multiple dependent variables. They take the general form:\n",
    "\n",
    "$$f\\bigg( x_1, ..., x_n; u, \\frac{\\partial u}{\\partial x_1}, ... \\frac{\\partial u}{\\partial x_n}; \\frac{\\partial^2 u}{\\partial x_1 \\partial x_1}, ... \\frac{\\partial^2 u}{\\partial x_1 \\partial x_n}; ... \\bigg) = 0$$\n",
    "\n",
    "Like non-linear ODEs, these are particulary nasty to solve and sometimes don't have a known solution. One such example is the **Navier-Stokes Equation**, which you will get very familiar with in transport. And, by the way, if you do happen to solve it, you can win the Millennium Prize along with $1 million."
   ]
  },
  {
   "cell_type": "markdown",
   "metadata": {},
   "source": [
    "# Just by looking\n",
    "\n",
    "#### Linear example\n",
    "\n",
    "Especially for first-order ODEs, you can actually pull out a lot of information from the equation without actually solving it. You should get in the habit of doing this. By examining conditions at **steady state** (i.e. $\\frac{dy}{dx} = 0$) you can tell how the function will behave at long times.\n",
    "\n",
    "As an example of a first-order problem, let's take a look at that heat transfer problem above:\n",
    "\n",
    "$$\\frac{dT}{dt} = -a\\bigg(T - \\frac{b}{a}\\bigg)$$\n",
    "\n",
    "with initial condition $u(0) = u_0$\n",
    "\n",
    "Setting $\\frac{dy}{dx} = 0$ gives\n",
    "\n",
    "$$ u_s = \\frac{b}{a}$$\n",
    "\n",
    "What happens if $ u(t) > \\frac{b}{a}$? Then $\\frac{dy}{dx} < 0$ and will \"push\" u down until it reachs $u_s$\n",
    "\n",
    "What happens if $ u(t) < \\frac{b}{a}$? Then $\\frac{dy}{dx} > 0$ and will \"push\" u up until it reachs $u_s$\n",
    "\n",
    "What happens if $ u(t) = \\frac{b}{a} = u_s$? Then $\\frac{dy}{dx} = 0$ and will remain constant. Thus, two observations:\n",
    "\n",
    "1. The steady state value is unique and\n",
    "2. The steady state is approached asymptotically as $t \\rightarrow \\infty$"
   ]
  },
  {
   "cell_type": "code",
   "execution_count": 2,
   "metadata": {},
   "outputs": [
    {
     "data": {
      "text/plain": [
       "Text(0, 0.5, 'u')"
      ]
     },
     "execution_count": 2,
     "metadata": {},
     "output_type": "execute_result"
    },
    {
     "data": {
      "image/png": "[encoded data removed]",
      "text/plain": [
       "<Figure size 432x288 with 1 Axes>"
      ]
     },
     "metadata": {
      "needs_background": "light"
     },
     "output_type": "display_data"
    }
   ],
   "source": [
    "import numpy as np\n",
    "import matplotlib.pyplot as plt\n",
    "\n",
    "x = np.linspace(0, 10, 101)\n",
    "fig, ax = plt.subplots()\n",
    "\n",
    "for u0 in [0, 1, 2]:\n",
    "    y = 1 + (u0 - 1)*np.exp(-x)\n",
    "    ax.plot(x, y, label = '$u_0 = {}$'.format(u0))\n",
    "ax.legend()\n",
    "ax.set_xlabel('t')\n",
    "ax.set_ylabel('u')"
   ]
  },
  {
   "cell_type": "code",
   "execution_count": 3,
   "metadata": {},
   "outputs": [
    {
     "data": {
      "text/plain": [
       "Text(0, 0.5, 'u')"
      ]
     },
     "execution_count": 3,
     "metadata": {},
     "output_type": "execute_result"
    },
    {
     "data": {
      "image/png": "[encoded data removed]",
      "text/plain": [
       "<Figure size 432x288 with 1 Axes>"
      ]
     },
     "metadata": {
      "needs_background": "light"
     },
     "output_type": "display_data"
    }
   ],
   "source": [
    "x = np.linspace(0, 10, 101)\n",
    "fig, ax = plt.subplots()\n",
    "\n",
    "u0 = 2\n",
    "b = -2\n",
    "\n",
    "for a in [0.1, 0.5, 2, 5, 10]:\n",
    "    y = (2+b/a)*np.exp(-a*x) - b/a\n",
    "    ax.plot(x, y, label = '$a = {}$'.format(a))\n",
    "ax.legend()\n",
    "ax.set_xlabel('t')\n",
    "ax.set_ylabel('u')"
   ]
  },
  {
   "cell_type": "markdown",
   "metadata": {},
   "source": [
    "#### Non-linear example\n",
    "\n",
    "Now let's take a look at a non-linear example:\n",
    "\n",
    "$$ \\frac{du}{dt} = u(1-u)$$\n",
    "\n",
    "One of the simplest models of species growth (In this case, the carrying capacity of the population is 1). Setting $\\frac{du}{dt} = 0$ gives two steady state values:\n",
    "\n",
    "$$u_{s1} = 0 \\text{ and } u_{s2} = 1$$\n",
    "\n",
    "In constast to the linear case, this problem does *not* have a unique steady state value, and which state it reaches will depend on the initial conditions. Let's try plotting $\\frac{du}{dt}$ as a function of u:"
   ]
  },
  {
   "cell_type": "code",
   "execution_count": 4,
   "metadata": {},
   "outputs": [
    {
     "data": {
      "text/plain": [
       "(-0.5, 1.5)"
      ]
     },
     "execution_count": 4,
     "metadata": {},
     "output_type": "execute_result"
    },
    {
     "data": {
      "image/png": "[encoded data removed]",
      "text/plain": [
       "<Figure size 432x288 with 1 Axes>"
      ]
     },
     "metadata": {
      "needs_background": "light"
     },
     "output_type": "display_data"
    }
   ],
   "source": [
    "import numpy as np\n",
    "import matplotlib.pyplot as plt\n",
    "\n",
    "x = np.linspace(-1, 2, 101)\n",
    "fig, ax = plt.subplots()\n",
    "\n",
    "y = x*(1-x)\n",
    "ax.plot(x, y)\n",
    "ax.plot(x, y*0, '--', c='k')\n",
    "ax.vlines(0, -1, 1, color='k')\n",
    "ax.vlines(1, -1, 1, color='k')\n",
    "ax.set_xlabel('u')\n",
    "ax.set_ylabel(r'$\\frac{du}{dt}$', fontsize=16)\n",
    "ax.set_ylim([-1, 1])\n",
    "ax.set_xlim([-0.5, 1.5])"
   ]
  },
  {
   "cell_type": "markdown",
   "metadata": {},
   "source": [
    "The behavior of potential solutions to the ODE will depend on which region the initial value $\\frac{du}{dt}$ takes.\n",
    "\n",
    "In the region $u_0 < 0$, then $\\frac{du}{dt} < 0$, will continue to be less than zero, shooting u off to negative infinity.\n",
    "\n",
    "In the region $ 0 < u_0 < 1$, then $\\frac{du}{dt} > 0$, making u increase until it reaches the steady state value of 1. \n",
    "\n",
    "$u_0 > 1$, then $\\frac{du}{dt} < 0$, and will \"push\" u back to the steady state value of 1.\n",
    "\n",
    "In technical terms, we say $u_s = 0$ is an unstable steady state value, and $u_s = 1$ is a stable steady state value."
   ]
  },
  {
   "cell_type": "markdown",
   "metadata": {},
   "source": [
    "Solving the differential equation gives:\n",
    "    \n",
    "$$ \\ln{\\bigg(\\frac{u}{u_0}\\bigg)} - \\ln{\\bigg(\\frac{1 - u}{1 - u_0}\\bigg)} = t$$"
   ]
  },
  {
   "cell_type": "code",
   "execution_count": null,
   "metadata": {},
   "outputs": [],
   "source": [
    "x = np.linspace(0, 10, 101)\n",
    "fig, ax = plt.subplots()\n",
    "\n",
    "for u0 in [0.01, 1, 2]:\n",
    "    y = 1 / (1 + ((1 - u0)/u0)*np.exp(-x))\n",
    "    ax.plot(x, y, label = '$u_0 = {}$'.format(u0))\n",
    "\n",
    "u0 = -0.5\n",
    "y = -1 / (((1 + np.abs(u0))/np.abs(u0))*np.exp(-x) -1)\n",
    "ax.plot(x, y, label = '$u_0 = {}$'.format(u0))\n",
    "\n",
    "ax.legend()\n",
    "ax.set_xlabel('t')\n",
    "ax.set_ylabel('u')\n",
    "ax.set_ylim([-2, 2])"
   ]
  },
  {
   "cell_type": "markdown",
   "metadata": {},
   "source": [
    "Notice the wierd behavior when $u_0 < 0$. This is actually an artifact, due to the fact that u reaches an infinite value in a finite time. So, to fix:"
   ]
  },
  {
   "cell_type": "code",
   "execution_count": null,
   "metadata": {},
   "outputs": [],
   "source": [
    "x = np.linspace(0, 10, 101)\n",
    "fig, ax = plt.subplots()\n",
    "\n",
    "for u0 in [0.01, 0.25, 0.5, 1, 2]:\n",
    "    y = 1 / (1 + ((1 - u0)/u0)*np.exp(-x))\n",
    "    ax.plot(x, y, label = '$u_0 = {}$'.format(u0))\n",
    "\n",
    "u0 = -0.5\n",
    "y = -1 / (((1 + np.abs(u0))/np.abs(u0))*np.exp(-x) -1)\n",
    "ax.plot(x[0:10], y[0:10], label = '$u_0 = {}$'.format(u0))\n",
    "\n",
    "ax.legend()\n",
    "ax.set_xlabel('t')\n",
    "ax.set_ylabel('u')\n",
    "ax.set_ylim([-2, 2])"
   ]
  },
  {
   "cell_type": "code",
   "execution_count": null,
   "metadata": {},
   "outputs": [],
   "source": []
  }
 ],
 "metadata": {
  "kernelspec": {
   "display_name": "Python 3",
   "language": "python",
   "name": "python3"
  },
  "language_info": {
   "codemirror_mode": {
    "name": "ipython",
    "version": 3
   },
   "file_extension": ".py",
   "mimetype": "text/x-python",
   "name": "python",
   "nbconvert_exporter": "python",
   "pygments_lexer": "ipython3",
   "version": "3.7.2"
  }
 },
 "nbformat": 4,
 "nbformat_minor": 2
}
