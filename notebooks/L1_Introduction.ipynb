{
 "cells": [
  {
   "cell_type": "markdown",
   "metadata": {},
   "source": [
    "By the end of this tutorial, you should be able to:\n",
    "    \n",
    "* Navigate a Jupyter notebook\n",
    "* Use basic Markdown and Latex representation.\n",
    "* Do basic math in Python with *numpy* and *matplotlib*"
   ]
  },
  {
   "cell_type": "markdown",
   "metadata": {},
   "source": [
    "Welcome to the first day of class! \n",
    "\n",
    "The chemical engineering graduate math course covers some pretty high-level topics (non-linear ODEs, PDEs, series solutions such as Bessel functions and Fourier transforms, etc), and we want to use this first week to get you set up to succeed. Throughout the course, we will be using both analytical and computational methods. Your homeworks will be turned in in the form of Jupyter notebooks (like this one) for both types of problems. You will represent analytical solutions in the form of Markdown and Latex, so we will give a brief introduction there. And computational problems will be carried out with Python using primarily the `numpy` and `matplotlib` packages with a little bit of `scipy`. "
   ]
  },
  {
   "cell_type": "code",
   "execution_count": null,
   "metadata": {},
   "outputs": [],
   "source": []
  },
  {
   "cell_type": "markdown",
   "metadata": {},
   "source": [
    "# Introduction to Markdown"
   ]
  },
  {
   "cell_type": "markdown",
   "metadata": {},
   "source": [
    "Markdown is a convenient human-readable coding language that allows you to convert text into well-formatted documents with ease. Formatting is represented with characters e.g. *italics* is done with asterisks while **bold** is done with double asterisks. You can also\n",
    "\n",
    "* Make\n",
    "* lists\n",
    "* like\n",
    "* this.\n",
    "\n",
    "Even tables are pretty easily inserted like so:\n",
    "\n",
    "| First column | Second column | Third column |\n",
    "| ------------ | ------------- | ------------ |\n",
    "| First row    | 1             | 10,000       |\n",
    "| Second row   | 2             | 20,000       |\n",
    "| Third row    | 3             | 30,000       |\n",
    "\n",
    "Try out a few of the tools on the [Markdown cheatsheet](https://github.com/adam-p/markdown-here/wiki/Markdown-Cheatsheet)"
   ]
  },
  {
   "cell_type": "markdown",
   "metadata": {},
   "source": []
  },
  {
   "cell_type": "markdown",
   "metadata": {},
   "source": [
    "# Latex with Markdown"
   ]
  },
  {
   "cell_type": "markdown",
   "metadata": {},
   "source": [
    "While Markdown is great, we can't do everything we want with its basic functionality. We're going to take advantage of the integration of Latek with Markdown that will allow us to represent mathematical expressions with Markdown. This will allow you to turn in beautifully crafted homework assignments-- and all without point-ey click-ey!\n",
    "\n",
    "Latex can be pretty scarey at first, but [Overleaf](https://www.overleaf.com/learn) has some great documentation that will allow you to pick up on it quickly. They even have a *Learn Latex in 30 minutes* tutorial! Don't worry-- we won't be doing any document formatting, just mathematical expressions. If you can't find what you're looking for in the Overleaf documention, try doing a Google search within Stack Overflow, and I'm sure you will find what you are looking for.\n",
    "\n",
    "Let's try a few basic expressions. First off, in order for Markdown to recognize that you're using Latex, you will have to enclose your code in dollar signs (\\\\$). For example: $y=x$. You can type text in the Latex format too, but $it will just look funky and you probably don't want to do it.$ If you want to write a mathematical expression on a line of its own, you will have to enclose it in double dollar signs (\\\\$\\\\$):\n",
    "\n",
    "$$y_1 = x^3 + x^2 + 2xy_2 $$ <br>\n",
    "$$y_2 = 3x^2 + y_2 y_1$$\n",
    "\n",
    "Ah, I just showed you how to do both exponentials and subscripts. Well cool! You can also add in Greek letters like $\\alpha$ and $\\Omega$, fancy math expressions like $\\in$ and $\\infty$, as well as operators like $\\int$ and $\\sum$. Try out a few more foreign ones from the Overleaf website below:"
   ]
  },
  {
   "cell_type": "markdown",
   "metadata": {},
   "source": []
  },
  {
   "cell_type": "markdown",
   "metadata": {},
   "source": []
  },
  {
   "cell_type": "markdown",
   "metadata": {},
   "source": [
    "# Math with Python"
   ]
  },
  {
   "cell_type": "markdown",
   "metadata": {},
   "source": [
    "The really neat aspect of Jupyter notebooks is incorporating text with code interchangeablely-- hence, our primary mode of submitting homeworks. Blocks can be either code blocks or mardown blocks, which you can change with the commands `Ctrl + M` for Markdown and `Ctrl + Y` for code blocks. Try typing a little bit of math in a code block below to see what happens:"
   ]
  },
  {
   "cell_type": "code",
   "execution_count": 3,
   "metadata": {},
   "outputs": [
    {
     "name": "stdout",
     "output_type": "stream",
     "text": [
      "The product of 7 and 12 is 84\n"
     ]
    }
   ],
   "source": [
    "2 + 2\n",
    "\n",
    "# You can add in comments in a code block like this.\n",
    "\n",
    "# You can also store any results from any math you perform in a variable:\n",
    "amax = max(2,4,6,8,10)\n",
    "\n",
    "# print statements are a great way to display results from calculations:\n",
    "\n",
    "print('The product of {} and {} is {}'.format(7,12,84))\n"
   ]
  },
  {
   "cell_type": "code",
   "execution_count": null,
   "metadata": {},
   "outputs": [],
   "source": []
  },
  {
   "cell_type": "markdown",
   "metadata": {},
   "source": [
    "Python all by itself is pretty powerful, but there are a couple packages we will use on a regular basis that expand its capabilities for math-oriented applications. We will start looking at some of the functions available to us using `numpy`. Let's demo a few functions you may use on a regular basis:"
   ]
  },
  {
   "cell_type": "code",
   "execution_count": 4,
   "metadata": {},
   "outputs": [],
   "source": [
    "import numpy as np"
   ]
  },
  {
   "cell_type": "code",
   "execution_count": null,
   "metadata": {},
   "outputs": [],
   "source": [
    "# The basic unit within numpy is an n-dimensional array (ndarray):\n",
    "data = np.array([[2.0, 5.6, 8.9], [8.6, 5.9, 1.2], [-1, 0.1, 6.2]])"
   ]
  },
  {
   "cell_type": "code",
   "execution_count": null,
   "metadata": {},
   "outputs": [],
   "source": [
    "# We can perform mathematical functions on our ndarrays:\n",
    "mdata = np.pi*data\n",
    "sdata = np.sin(mdata)"
   ]
  },
  {
   "cell_type": "code",
   "execution_count": null,
   "metadata": {},
   "outputs": [],
   "source": [
    "# And we can perform matrix operations on our ndarrays too:\n",
    "idata = np.linalg.inv(data)\n",
    "ddata = np.linalg.det(data)"
   ]
  },
  {
   "cell_type": "code",
   "execution_count": null,
   "metadata": {},
   "outputs": [],
   "source": [
    "# There are other functions out there that create special types of ndarrays for you:\n",
    "zdata = np.zeros((3,3))\n",
    "rdata = np.linspace(0, 100, 101)"
   ]
  },
  {
   "cell_type": "code",
   "execution_count": 17,
   "metadata": {},
   "outputs": [
    {
     "name": "stdout",
     "output_type": "stream",
     "text": [
      "Row: 0, Col: 0, Value: 2.0\n",
      "Row: 0, Col: 1, Value: 5.6\n",
      "Row: 0, Col: 2, Value: 8.9\n",
      "Row: 1, Col: 0, Value: 8.6\n",
      "Row: 1, Col: 1, Value: 5.9\n",
      "Row: 1, Col: 2, Value: 1.2\n",
      "Row: 2, Col: 0, Value: -1.0\n",
      "Row: 2, Col: 1, Value: 0.1\n",
      "Row: 2, Col: 2, Value: 6.2\n"
     ]
    }
   ],
   "source": [
    "# You can loop through arrays too using for loops:\n",
    "ndata = zdata\n",
    "for i, col in enumerate(data):\n",
    "    for j, row in enumerate(col):\n",
    "        print('Row: {}, Col: {}, Value: {}'.format(i, j, data[i,j]))"
   ]
  },
  {
   "cell_type": "code",
   "execution_count": null,
   "metadata": {},
   "outputs": [],
   "source": []
  },
  {
   "cell_type": "markdown",
   "metadata": {},
   "source": [
    "[Slack URL](uwcheme512.slack.com)"
   ]
  },
  {
   "cell_type": "code",
   "execution_count": null,
   "metadata": {},
   "outputs": [],
   "source": [
    "# Homework Tip!!!\n",
    "# For adapting Newton-Raphson, try:\n",
    "\n",
    "try:\n",
    "    # Normal Newton-Raphson\n",
    "except:\n",
    "    # Modified Newton-Raphson"
   ]
  },
  {
   "cell_type": "markdown",
   "metadata": {},
   "source": [
    "# Plotting with Python"
   ]
  },
  {
   "cell_type": "markdown",
   "metadata": {},
   "source": [
    "After you have performed your calculations, you may want to take a look at what your results look like. Even if you don't need a fancy plot, this can be a great way to check if your results make sense. Given that you should have some physical intuition for what the problems we'll be solving represent, this can be an important sanity check. You can make plots for problems you solve both analytically and computationally.\n",
    "\n",
    "The main package we will be using to make plots is `matplotlib`. It has a very similar notational form to MatLab-- so if you have some experience there, it shouldn't be too bad to pick up."
   ]
  },
  {
   "cell_type": "code",
   "execution_count": 1,
   "metadata": {},
   "outputs": [],
   "source": [
    "import numpy as np\n",
    "import matplotlib.pyplot as plt"
   ]
  },
  {
   "cell_type": "code",
   "execution_count": 3,
   "metadata": {},
   "outputs": [
    {
     "data": {
      "text/plain": [
       "[<matplotlib.lines.Line2D at 0x255efd4b940>]"
      ]
     },
     "execution_count": 3,
     "metadata": {},
     "output_type": "execute_result"
    },
    {
     "data": {
      "image/png": "[encoded data removed]",
      "text/plain": [
       "<Figure size 432x288 with 1 Axes>"
      ]
     },
     "metadata": {
      "needs_background": "light"
     },
     "output_type": "display_data"
    }
   ],
   "source": [
    "x = np.linspace(0, 30, 301)\n",
    "y = np.sin(x)\n",
    "\n",
    "plt.plot(x,y)"
   ]
  },
  {
   "cell_type": "code",
   "execution_count": 7,
   "metadata": {},
   "outputs": [
    {
     "data": {
      "text/plain": [
       "[<matplotlib.lines.Line2D at 0x255f0d15828>]"
      ]
     },
     "execution_count": 7,
     "metadata": {},
     "output_type": "execute_result"
    },
    {
     "data": {
      "image/png": "[encoded data removed]",
      "text/plain": [
       "<Figure size 1008x360 with 4 Axes>"
      ]
     },
     "metadata": {
      "needs_background": "light"
     },
     "output_type": "display_data"
    }
   ],
   "source": [
    "x = np.linspace(0, 30, 301)\n",
    "y1 = np.sin(x) + 1.5*np.sin(2*x + np.pi/8) + 1.5*np.sin(0.5*x + np.pi/4)\n",
    "y2 = -y1\n",
    "\n",
    "fig, ax = plt.subplots(figsize=(14,5), nrows=2, ncols=2)\n",
    "ax[0][0].plot(x, y1)\n",
    "ax[0][1].plot(x, y2)"
   ]
  },
  {
   "cell_type": "markdown",
   "metadata": {},
   "source": [
    "Try figuring out how to do one of the following using the [Matplotlib documentation](https://matplotlib.org/) or just googling Stack Overflow answers:\n",
    "\n",
    "* Adding in a legend\n",
    "* Adding x and y labels\n",
    "* Increasing the font size of the tick labels\n",
    "* Changing the color and linewidth of each curve on the plot"
   ]
  },
  {
   "cell_type": "code",
   "execution_count": null,
   "metadata": {},
   "outputs": [],
   "source": []
  }
 ],
 "metadata": {
  "kernelspec": {
   "display_name": "Python 3",
   "language": "python",
   "name": "python3"
  },
  "language_info": {
   "codemirror_mode": {
    "name": "ipython",
    "version": 3
   },
   "file_extension": ".py",
   "mimetype": "text/x-python",
   "name": "python",
   "nbconvert_exporter": "python",
   "pygments_lexer": "ipython3",
   "version": "3.7.2"
  }
 },
 "nbformat": 4,
 "nbformat_minor": 2
}
