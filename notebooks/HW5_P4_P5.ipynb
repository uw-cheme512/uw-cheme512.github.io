{
 "cells": [
  {
   "cell_type": "code",
   "execution_count": 21,
   "metadata": {},
   "outputs": [],
   "source": [
    "import numpy as np\n",
    "import matplotlib.pyplot as plt\n",
    "from scipy.optimize import newton"
   ]
  },
  {
   "cell_type": "code",
   "execution_count": 19,
   "metadata": {},
   "outputs": [],
   "source": [
    "s = 0.4\n",
    "\n",
    "def f(th_hi, th_lo, n_th, s):\n",
    "\n",
    "    # th_lo = 1\n",
    "    # th_hi = 2\n",
    "    # n_th = 101\n",
    "\n",
    "    th = np.linspace(th_lo, th_hi, n_th)\n",
    "    w = th[2] - th[1]\n",
    "    A = 0.5\n",
    "    G = 2\n",
    "    thj = 1\n",
    "    gamma = 1\n",
    "    fth = 1/(A*(thj - th) + G*np.exp(gamma*(1-(1/th))))\n",
    "\n",
    "    intth = np.sum(w*fth) - s\n",
    "    \n",
    "    return intth"
   ]
  },
  {
   "cell_type": "code",
   "execution_count": 20,
   "metadata": {},
   "outputs": [
    {
     "data": {
      "text/plain": [
       "0.25275754512018445"
      ]
     },
     "execution_count": 20,
     "metadata": {},
     "output_type": "execute_result"
    }
   ],
   "source": [
    "f(3, 1, 1000, 0.5)"
   ]
  },
  {
   "cell_type": "code",
   "execution_count": 26,
   "metadata": {},
   "outputs": [],
   "source": [
    "s = np.linspace(0, 1, 100)\n",
    "th_hi = s*0\n",
    "\n",
    "th_guess = 1\n",
    "for i, si in enumerate(s):\n",
    "    th_hi[i] = newton(f, th_guess, args=(1, 1000, si)) # outout is th_hi\n",
    "    th_guess = th_hi[i]"
   ]
  },
  {
   "cell_type": "code",
   "execution_count": 29,
   "metadata": {},
   "outputs": [
    {
     "data": {
      "text/plain": [
       "[<matplotlib.lines.Line2D at 0x1e3628bfda0>]"
      ]
     },
     "execution_count": 29,
     "metadata": {},
     "output_type": "execute_result"
    },
    {
     "data": {
      "image/png": "[encoded data removed]",
      "text/plain": [
       "<Figure size 432x288 with 1 Axes>"
      ]
     },
     "metadata": {
      "needs_background": "light"
     },
     "output_type": "display_data"
    }
   ],
   "source": [
    "plt.plot(s, th_hi)"
   ]
  },
  {
   "cell_type": "code",
   "execution_count": 12,
   "metadata": {},
   "outputs": [
    {
     "data": {
      "text/plain": [
       "[<matplotlib.lines.Line2D at 0x1e361fa6710>]"
      ]
     },
     "execution_count": 12,
     "metadata": {},
     "output_type": "execute_result"
    },
    {
     "data": {
      "image/png": "[encoded data removed]",
      "text/plain": [
       "<Figure size 432x288 with 1 Axes>"
      ]
     },
     "metadata": {
      "needs_background": "light"
     },
     "output_type": "display_data"
    }
   ],
   "source": [
    "plt.plot(th, fth)"
   ]
  },
  {
   "cell_type": "code",
   "execution_count": 31,
   "metadata": {},
   "outputs": [],
   "source": [
    "t = np.linspace(0, 3, 101)\n",
    "x = s"
   ]
  },
  {
   "cell_type": "code",
   "execution_count": 33,
   "metadata": {},
   "outputs": [],
   "source": [
    "xv, tv = np.meshgrid(x, t)"
   ]
  },
  {
   "cell_type": "code",
   "execution_count": 34,
   "metadata": {},
   "outputs": [
    {
     "data": {
      "text/plain": [
       "array([[0.        , 0.01010101, 0.02020202, ..., 0.97979798, 0.98989899,\n",
       "        1.        ],\n",
       "       [0.        , 0.01010101, 0.02020202, ..., 0.97979798, 0.98989899,\n",
       "        1.        ],\n",
       "       [0.        , 0.01010101, 0.02020202, ..., 0.97979798, 0.98989899,\n",
       "        1.        ],\n",
       "       ...,\n",
       "       [0.        , 0.01010101, 0.02020202, ..., 0.97979798, 0.98989899,\n",
       "        1.        ],\n",
       "       [0.        , 0.01010101, 0.02020202, ..., 0.97979798, 0.98989899,\n",
       "        1.        ],\n",
       "       [0.        , 0.01010101, 0.02020202, ..., 0.97979798, 0.98989899,\n",
       "        1.        ]])"
      ]
     },
     "execution_count": 34,
     "metadata": {},
     "output_type": "execute_result"
    }
   ],
   "source": [
    "xv"
   ]
  },
  {
   "cell_type": "code",
   "execution_count": 35,
   "metadata": {},
   "outputs": [
    {
     "data": {
      "text/plain": [
       "array([[0.  , 0.  , 0.  , ..., 0.  , 0.  , 0.  ],\n",
       "       [0.03, 0.03, 0.03, ..., 0.03, 0.03, 0.03],\n",
       "       [0.06, 0.06, 0.06, ..., 0.06, 0.06, 0.06],\n",
       "       ...,\n",
       "       [2.94, 2.94, 2.94, ..., 2.94, 2.94, 2.94],\n",
       "       [2.97, 2.97, 2.97, ..., 2.97, 2.97, 2.97],\n",
       "       [3.  , 3.  , 3.  , ..., 3.  , 3.  , 3.  ]])"
      ]
     },
     "execution_count": 35,
     "metadata": {},
     "output_type": "execute_result"
    }
   ],
   "source": [
    "tv"
   ]
  },
  {
   "cell_type": "code",
   "execution_count": null,
   "metadata": {},
   "outputs": [],
   "source": []
  }
 ],
 "metadata": {
  "kernelspec": {
   "display_name": "Python 3",
   "language": "python",
   "name": "python3"
  },
  "language_info": {
   "codemirror_mode": {
    "name": "ipython",
    "version": 3
   },
   "file_extension": ".py",
   "mimetype": "text/x-python",
   "name": "python",
   "nbconvert_exporter": "python",
   "pygments_lexer": "ipython3",
   "version": "3.7.2"
  }
 },
 "nbformat": 4,
 "nbformat_minor": 2
}
