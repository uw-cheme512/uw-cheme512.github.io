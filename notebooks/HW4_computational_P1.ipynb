{
 "cells": [
  {
   "cell_type": "markdown",
   "metadata": {},
   "source": [
    "**Problem 1**\n",
    "\n",
    "1. Solve the following ODE using a first-order Forward Euler approximation. Write out the matrix form of the solution. Find the eigenvalues of the matrix. What do you notice about the eigenvalues? Try varying values of $\\Delta t$. When does the solution become unstable? Why?\n",
    "\n",
    "$$\\frac{dy}{dt} = -30y, y(0) = 1 $$\n",
    "\n",
    "2. Repeat 1. using a second-, third-, fourth-, fifth-, and sixth- order approximation for the derivative. What do you notice about the behavior of higher order approximations as you vary $\\Delta t$? Do they become unstable?\n",
    "\n",
    "3. Plot the relative accuracy of y(0.3) for each case in 1 and 2 as a function of $\\Delta t$, as well as the time of execution as a function of $\\Delta t$. At what point does using a higher order approximation lose its value, in terms of both accuracy and computational cost?"
   ]
  },
  {
   "cell_type": "code",
   "execution_count": 1,
   "metadata": {},
   "outputs": [],
   "source": [
    "import numpy as np\n",
    "import matplotlib.pyplot as plt\n",
    "from scipy.integrate import odeint"
   ]
  },
  {
   "cell_type": "code",
   "execution_count": 47,
   "metadata": {},
   "outputs": [],
   "source": [
    "# Define the discretization\n",
    "N = 40 # Number of steps\n",
    "t = np.linspace(0, 1, N+1) # Define time vector\n",
    "dt = t[1] # Define delta t\n",
    "y0 = 1 # Define initial condition\n",
    "\n",
    "b = 0*t # Define b vector\n",
    "b[0] = y0 # Set initial condition"
   ]
  },
  {
   "cell_type": "code",
   "execution_count": 48,
   "metadata": {},
   "outputs": [],
   "source": [
    "A = np.eye(N=N+1)/dt + (30 - 1/dt)*np.eye(N=N+1, k=-1)\n",
    "A[0,0] = 1\n",
    "\n",
    "# Second order A matrix\n",
    "A2 = 2*np.eye(N=N+1, k=0)/dt + (30 - 1.5/dt)*np.eye(N=N+1, k=-1) + (-0.5/dt)*np.eye(N=N+1, k=1)\n",
    "#A[0,0] = 1\n",
    "A2[0:2,:] = A[0:2,:]\n",
    "\n",
    "y1 = np.matmul(np.linalg.inv(A), b)\n",
    "y2 = np.matmul(np.linalg.inv(A2), b)"
   ]
  },
  {
   "cell_type": "code",
   "execution_count": 49,
   "metadata": {},
   "outputs": [
    {
     "data": {
      "text/plain": [
       "array([[  1.,   0.,   0., ...,   0.,   0.,   0.],\n",
       "       [-10.,  40.,   0., ...,   0.,   0.,   0.],\n",
       "       [  0., -30.,  80., ...,   0.,   0.,   0.],\n",
       "       ...,\n",
       "       [  0.,   0.,   0., ...,  80., -20.,   0.],\n",
       "       [  0.,   0.,   0., ..., -30.,  80., -20.],\n",
       "       [  0.,   0.,   0., ...,   0., -30.,  80.]])"
      ]
     },
     "execution_count": 49,
     "metadata": {},
     "output_type": "execute_result"
    }
   ],
   "source": [
    "A2 = 2*np.eye(N=N+1, k=0)/dt + (30 - 1.5/dt)*np.eye(N=N+1, k=-1) + (-0.5/dt)*np.eye(N=N+1, k=1)\n",
    "A2[0:2,:] = A[0:2,:]\n",
    "A2"
   ]
  },
  {
   "cell_type": "code",
   "execution_count": 50,
   "metadata": {},
   "outputs": [
    {
     "data": {
      "text/plain": [
       "<matplotlib.legend.Legend at 0x22f91d6ceb8>"
      ]
     },
     "execution_count": 50,
     "metadata": {},
     "output_type": "execute_result"
    },
    {
     "data": {
      "image/png": "[encoded data removed]",
      "text/plain": [
       "<Figure size 432x288 with 1 Axes>"
      ]
     },
     "metadata": {
      "needs_background": "light"
     },
     "output_type": "display_data"
    }
   ],
   "source": [
    "y = np.exp(-30*t)\n",
    "\n",
    "fig, ax = plt.subplots(figsize=(6, 4))\n",
    "\n",
    "ax.semilogy(t, y, label='exact')\n",
    "ax.semilogy(t, y1, label='1st')\n",
    "ax.semilogy(t, y2, label='2nd')\n",
    "\n",
    "ax.legend()"
   ]
  },
  {
   "cell_type": "code",
   "execution_count": null,
   "metadata": {},
   "outputs": [],
   "source": []
  }
 ],
 "metadata": {
  "kernelspec": {
   "display_name": "Python 3",
   "language": "python",
   "name": "python3"
  },
  "language_info": {
   "codemirror_mode": {
    "name": "ipython",
    "version": 3
   },
   "file_extension": ".py",
   "mimetype": "text/x-python",
   "name": "python",
   "nbconvert_exporter": "python",
   "pygments_lexer": "ipython3",
   "version": "3.7.2"
  }
 },
 "nbformat": 4,
 "nbformat_minor": 2
}
